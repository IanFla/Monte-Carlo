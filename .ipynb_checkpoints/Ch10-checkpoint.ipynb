{
 "cells": [
  {
   "cell_type": "code",
   "execution_count": 1,
   "metadata": {},
   "outputs": [],
   "source": [
    "from matplotlib import pyplot as plt\n",
    "import seaborn as sb\n",
    "import numpy as np\n",
    "from scipy.stats import uniform,norm,t,binom,expon,chi2,gamma,poisson,beta,dirichlet\n",
    "from scipy.stats import multivariate_normal as multi_norm\n",
    "from sklearn.linear_model import LinearRegression as Linear\n",
    "from scipy.optimize import brentq\n",
    "from scipy.special import perm,comb\n",
    "import time\n",
    "import pandas as pd"
   ]
  },
  {
   "cell_type": "markdown",
   "metadata": {},
   "source": [
    "**10.3**"
   ]
  },
  {
   "cell_type": "code",
   "execution_count": 2,
   "metadata": {},
   "outputs": [],
   "source": [
    "m=32\n",
    "n=2*(m**2)\n",
    "grid=np.meshgrid(np.linspace(0,1-1/m,m),np.linspace(0,1-1/m,m))\n",
    "def f(S):\n",
    "    x1=S[0]\n",
    "    x2=S[1]\n",
    "    return x1**2*np.exp(x1*x2)\n",
    "    \n",
    "def estimate_gs(rep):\n",
    "    mu=np.zeros(rep)\n",
    "    Var1=np.zeros(rep)\n",
    "    Var2=np.zeros(rep)\n",
    "    for i in range(rep):\n",
    "        U1=uniform.rvs(size=n).reshape([2,m,m])/m\n",
    "        S1=(grid+U1).reshape(2,-1)\n",
    "        F1=f(S1)\n",
    "        mu1=np.mean(F1)\n",
    "        U2=uniform.rvs(size=n).reshape([2,m,m])/m\n",
    "        S2=(grid+U2).reshape(2,-1)\n",
    "        F2=f(S2)\n",
    "        mu2=np.mean(F2)\n",
    "        mu[i]=(mu1+mu2)/2\n",
    "        Var1[i]=np.sum((F1-F2)**2)/(4*m**4)\n",
    "        Var2[i]=(mu1-mu2)**2/4\n",
    "        \n",
    "    return mu,Var1,Var2\n",
    "\n",
    "mu,Var1,Var2=estimate_gs(10000)"
   ]
  },
  {
   "cell_type": "code",
   "execution_count": 3,
   "metadata": {},
   "outputs": [
    {
     "data": {
      "image/png": "[encoded data removed]",
      "text/plain": [
       "<Figure size 432x288 with 1 Axes>"
      ]
     },
     "metadata": {
      "needs_background": "light"
     },
     "output_type": "display_data"
    },
    {
     "name": "stdout",
     "output_type": "stream",
     "text": [
      "variance: 2.1662535833164034e-07\n"
     ]
    }
   ],
   "source": [
    "sb.histplot(mu)\n",
    "plt.show()\n",
    "print('variance:',np.var(mu))"
   ]
  },
  {
   "cell_type": "code",
   "execution_count": 4,
   "metadata": {},
   "outputs": [
    {
     "data": {
      "image/png": "[encoded data removed]",
      "text/plain": [
       "<Figure size 432x288 with 1 Axes>"
      ]
     },
     "metadata": {
      "needs_background": "light"
     },
     "output_type": "display_data"
    },
    {
     "name": "stdout",
     "output_type": "stream",
     "text": [
      "Var1: 2.1585422550167783e-07 1.588513175219754e-08\n",
      "Var2: 2.2094709794794536e-07 3.0985996459345624e-07\n",
      "380.4952954034561\n"
     ]
    }
   ],
   "source": [
    "sb.histplot(Var1,color='r')\n",
    "sb.histplot(Var2,color='g')\n",
    "plt.show()\n",
    "print('Var1:',np.mean(Var1),np.std(Var1))\n",
    "print('Var2:',np.mean(Var2),np.std(Var2))\n",
    "print(np.var(Var2)/np.var(Var1))"
   ]
  },
  {
   "cell_type": "markdown",
   "metadata": {},
   "source": [
    "**10.4**"
   ]
  },
  {
   "cell_type": "code",
   "execution_count": 5,
   "metadata": {},
   "outputs": [
    {
     "name": "stdout",
     "output_type": "stream",
     "text": [
      "0.48384991635313007 0.06199518411705442\n"
     ]
    }
   ],
   "source": [
    "alpha=1/2\n",
    "def f(X):\n",
    "    J=np.arange(1,1001)*1.0\n",
    "    g=1+(X**alpha/J**2).sum(axis=1)\n",
    "    return 1/g\n",
    "\n",
    "n=1000\n",
    "X=uniform.rvs(size=n*1000).reshape([n,1000])\n",
    "FX=f(X)\n",
    "print(np.mean(FX),np.std(FX))"
   ]
  },
  {
   "cell_type": "code",
   "execution_count": 6,
   "metadata": {},
   "outputs": [
    {
     "name": "stdout",
     "output_type": "stream",
     "text": [
      "0.48426487458882306 0.00043310139678934154\n"
     ]
    }
   ],
   "source": [
    "n=100\n",
    "r=100\n",
    "mu=np.zeros(r)\n",
    "for i in range(r):\n",
    "    X=np.zeros([n,1000])\n",
    "    for d in range(1000):\n",
    "        X[:,d]=(np.random.choice(np.arange(n),size=n,replace=False)+uniform.rvs(size=n))/n\n",
    "    \n",
    "    mu[i]=np.mean(f(X))\n",
    "    \n",
    "print(np.mean(mu),np.std(mu))"
   ]
  },
  {
   "cell_type": "markdown",
   "metadata": {},
   "source": [
    "**10.5**"
   ]
  },
  {
   "cell_type": "code",
   "execution_count": 7,
   "metadata": {},
   "outputs": [],
   "source": [
    "def f(X):\n",
    "    return (-1)**(X>0.5).sum(axis=1)"
   ]
  },
  {
   "cell_type": "code",
   "execution_count": 8,
   "metadata": {},
   "outputs": [
    {
     "data": {
      "image/png": "[encoded data removed]",
      "text/plain": [
       "<Figure size 432x288 with 1 Axes>"
      ]
     },
     "metadata": {
      "needs_background": "light"
     },
     "output_type": "display_data"
    },
    {
     "name": "stdout",
     "output_type": "stream",
     "text": [
      "0.03162277660168379 0.03159807589078804\n"
     ]
    }
   ],
   "source": [
    "n=1000\n",
    "r=100\n",
    "mu=np.zeros(r)\n",
    "for i in range(r):\n",
    "    X=np.zeros([n,1000])\n",
    "    for d in range(1000):\n",
    "        X[:,d]=(np.random.choice(np.arange(n),size=n,replace=False)+uniform.rvs(size=n))/n\n",
    "    \n",
    "    mu[i]=np.mean(f(X))\n",
    "    \n",
    "sb.histplot(mu)\n",
    "plt.show()\n",
    "print(1/np.sqrt(n),np.std(mu))"
   ]
  },
  {
   "cell_type": "markdown",
   "metadata": {},
   "source": [
    "**10.7**"
   ]
  },
  {
   "cell_type": "code",
   "execution_count": 73,
   "metadata": {},
   "outputs": [
    {
     "name": "stdout",
     "output_type": "stream",
     "text": [
      "9.828680812116621e-19 6.648171927801809e-20\n"
     ]
    },
    {
     "data": {
      "image/png": "[encoded data removed]",
      "text/plain": [
       "<Figure size 432x288 with 1 Axes>"
      ]
     },
     "metadata": {
      "needs_background": "light"
     },
     "output_type": "display_data"
    }
   ],
   "source": [
    "f=lambda X: X.min(axis=1)\n",
    "p=lambda X: multi_norm.pdf(x=X,mean=[0,0])\n",
    "q=[lambda size,theta: multi_norm.rvs(size=size,mean=theta),lambda X,theta: multi_norm.pdf(x=X,mean=theta)]\n",
    "n=10000\n",
    "K=10\n",
    "tau=6\n",
    "eps=0.01\n",
    "def AIS():\n",
    "    Tau=np.zeros(K)\n",
    "    Theta=np.zeros([K+1,2])\n",
    "    for k in range(K):\n",
    "        X=q[0](n,Theta[k])\n",
    "        Tau[k]=np.quantile(f(X),1-eps)\n",
    "        Tau[k]=min(tau,Tau[k])    \n",
    "        W=p(X)/q[1](X,Theta[k])\n",
    "        H=W*(f(X)>=Tau[k])\n",
    "        Theta[k+1]=np.sum(H.reshape([n,1])*X,axis=0)/np.sum(H)\n",
    "\n",
    "    mu=np.mean(W*(f(X)>=tau))\n",
    "    return mu,Theta[K-1]\n",
    "\n",
    "rep=50\n",
    "Mu=np.zeros(rep)\n",
    "Theta=np.zeros(2*rep).reshape([-1,2])\n",
    "for r in range(rep):\n",
    "    Mu[r],Theta[r]=AIS()\n",
    "    \n",
    "print(np.mean(Mu),np.std(Mu))\n",
    "plt.plot(Theta[:,0],Theta[:,1],'ro')\n",
    "plt.show()"
   ]
  },
  {
   "cell_type": "markdown",
   "metadata": {},
   "source": [
    "**10.8**"
   ]
  },
  {
   "cell_type": "code",
   "execution_count": 79,
   "metadata": {},
   "outputs": [
    {
     "name": "stdout",
     "output_type": "stream",
     "text": [
      "9.78547764339227e-10 2.6316317878652087e-11\n"
     ]
    },
    {
     "data": {
      "image/png": "[encoded data removed]",
      "text/plain": [
       "<Figure size 432x288 with 1 Axes>"
      ]
     },
     "metadata": {
      "needs_background": "light"
     },
     "output_type": "display_data"
    },
    {
     "name": "stdout",
     "output_type": "stream",
     "text": [
      "1.957095528678454e-09\n"
     ]
    }
   ],
   "source": [
    "f=lambda X: X.max(axis=1)\n",
    "p=lambda X: multi_norm.pdf(x=X,mean=[0,0])\n",
    "q=[lambda size,theta: multi_norm.rvs(size=size,mean=theta),lambda X,theta: multi_norm.pdf(x=X,mean=theta)]\n",
    "n=10000\n",
    "K=10\n",
    "tau=6\n",
    "eps=0.01\n",
    "def AIS():\n",
    "    Tau=np.zeros(K)\n",
    "    Theta=np.zeros([K+1,2])\n",
    "    for k in range(K):\n",
    "        X=q[0](n,Theta[k])\n",
    "        Tau[k]=np.quantile(f(X),1-eps)\n",
    "        Tau[k]=min(tau,Tau[k])    \n",
    "        W=p(X)/q[1](X,Theta[k])\n",
    "        H=W*(f(X)>=Tau[k])\n",
    "        Theta[k+1]=np.sum(H.reshape([n,1])*X,axis=0)/np.sum(H)\n",
    "\n",
    "    mu=np.mean(W*(f(X)>=tau))\n",
    "    return mu,Theta[K-1]\n",
    "\n",
    "rep=50\n",
    "Mu=np.zeros(rep)\n",
    "Theta=np.zeros(2*rep).reshape([-1,2])\n",
    "for r in range(rep):\n",
    "    Mu[r],Theta[r]=AIS()\n",
    "    \n",
    "print(np.mean(Mu),np.std(Mu))\n",
    "plt.plot(Theta[:,0],Theta[:,1],'ro')\n",
    "plt.show()\n",
    "print(2*np.mean(Mu))"
   ]
  },
  {
   "cell_type": "markdown",
   "metadata": {},
   "source": [
    "**10.10**"
   ]
  },
  {
   "cell_type": "code",
   "execution_count": 97,
   "metadata": {},
   "outputs": [],
   "source": [
    "A=1\n",
    "f=lambda x: np.exp(A*x)\n",
    "p=lambda x: norm.pdf(x=x)\n",
    "mu=np.exp(A**2/2)\n",
    "q=[lambda size,theta: norm.rvs(size=size,loc=theta),lambda x,theta: norm.pdf(x=x,loc=theta)]\n",
    "n=20\n",
    "K=400\n",
    "def toy():\n",
    "    Theta=np.zeros(K+1)\n",
    "    Mu=np.zeros(K)\n",
    "    eps=1e-12\n",
    "    flag=False\n",
    "    for k in range(K):\n",
    "        x=q[0](n,Theta[k])\n",
    "        W=f(x)*p(x)/q[1](x,Theta[k])\n",
    "        Mu[k]=np.mean(W)\n",
    "        if Mu[k]<1:\n",
    "            flag=True\n",
    "            \n",
    "        if np.abs(Mu[k]-mu)<eps:\n",
    "            break\n",
    "            \n",
    "        Theta[k+1]=np.sqrt(2*np.log(max(1,Mu[k])))\n",
    "        \n",
    "    return k,Mu[k],Theta[k],flag\n",
    "\n",
    "N=1000\n",
    "KK=np.zeros(N)\n",
    "Mu=np.zeros(N)\n",
    "Theta=np.zeros(N)\n",
    "Flag=np.zeros(N)\n",
    "for i in range(N):\n",
    "    KK[i],Mu[i],Theta[i],Flag[i]=toy()"
   ]
  },
  {
   "cell_type": "code",
   "execution_count": 99,
   "metadata": {},
   "outputs": [
    {
     "name": "stdout",
     "output_type": "stream",
     "text": [
      "success rate: 1.0\n",
      "success step: 13.026\n",
      "average mu(k)<1: 0.044\n"
     ]
    }
   ],
   "source": [
    "print('success rate:',np.mean(np.abs(Mu-mu)<eps))\n",
    "print('success step:',np.mean(KK))\n",
    "print('average mu(k)<1:',np.mean(Flag))"
   ]
  },
  {
   "cell_type": "markdown",
   "metadata": {},
   "source": [
    "**10.11**"
   ]
  },
  {
   "cell_type": "code",
   "execution_count": 120,
   "metadata": {},
   "outputs": [
    {
     "data": {
      "image/png": "[encoded data removed]",
      "text/plain": [
       "<Figure size 432x288 with 1 Axes>"
      ]
     },
     "metadata": {
      "needs_background": "light"
     },
     "output_type": "display_data"
    },
    {
     "name": "stdout",
     "output_type": "stream",
     "text": [
      "1.1249444522319425 1.125\n"
     ]
    },
    {
     "data": {
      "image/png": "[encoded data removed]",
      "text/plain": [
       "<Figure size 432x288 with 1 Axes>"
      ]
     },
     "metadata": {
      "needs_background": "light"
     },
     "output_type": "display_data"
    }
   ],
   "source": [
    "def Var(r0,r1,K):\n",
    "    K=(np.arange(K)+1)**1.0\n",
    "    nom=np.sum(K**(2*r1-r0))\n",
    "    den=np.sum(K**r1)**2\n",
    "    return nom/den\n",
    "\n",
    "K=10000\n",
    "N=50\n",
    "R1=np.linspace(0,1,N+1)\n",
    "def exp(r0):\n",
    "    VAR=np.zeros(N+1)\n",
    "    for i,r1 in enumerate(R1):\n",
    "        VAR[i]=Var(r0,r1,K)\n",
    "        \n",
    "    return VAR\n",
    "    \n",
    "R0=np.linspace(0,1,N+1)\n",
    "Mid=np.zeros(N+1)\n",
    "for i,r0 in enumerate(R0):\n",
    "    VAR=exp(r0)\n",
    "    Mid[i]=VAR[int(N/2)]/Var(r0,r0,K)\n",
    "    plt.plot(R1,VAR/Var(r0,r0,K))\n",
    "\n",
    "plt.show()\n",
    "\n",
    "print(np.max(Mid),9/8)\n",
    "plt.plot(R0,Mid)\n",
    "plt.show()"
   ]
  },
  {
   "cell_type": "code",
   "execution_count": null,
   "metadata": {},
   "outputs": [],
   "source": []
  },
  {
   "cell_type": "code",
   "execution_count": null,
   "metadata": {},
   "outputs": [],
   "source": []
  },
  {
   "cell_type": "code",
   "execution_count": null,
   "metadata": {},
   "outputs": [],
   "source": []
  },
  {
   "cell_type": "code",
   "execution_count": null,
   "metadata": {},
   "outputs": [],
   "source": []
  }
 ],
 "metadata": {
  "kernelspec": {
   "display_name": "Python 3",
   "language": "python",
   "name": "python3"
  },
  "language_info": {
   "codemirror_mode": {
    "name": "ipython",
    "version": 3
   },
   "file_extension": ".py",
   "mimetype": "text/x-python",
   "name": "python",
   "nbconvert_exporter": "python",
   "pygments_lexer": "ipython3",
   "version": "3.9.1"
  }
 },
 "nbformat": 4,
 "nbformat_minor": 4
}
