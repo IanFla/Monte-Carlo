{
 "cells": [
  {
   "cell_type": "code",
   "execution_count": null,
   "metadata": {},
   "outputs": [],
   "source": [
    "from matplotlib import pyplot as plt\n",
    "import seaborn as sb\n",
    "import numpy as np\n",
    "from scipy.stats import uniform,norm,t,binom,expon,chi2,gamma,poisson,beta\n",
    "from scipy.stats import multivariate_normal as multi_norm\n",
    "from scipy.optimize import brentq"
   ]
  },
  {
   "cell_type": "markdown",
   "metadata": {},
   "source": [
    "**4.14**"
   ]
  },
  {
   "cell_type": "code",
   "execution_count": null,
   "metadata": {},
   "outputs": [],
   "source": [
    "g=0.7\n",
    "f=lambda eta,g: 0.5*(1-g**2)/(1+g**2-2*g*eta)**1.5\n",
    "sample=lambda u,g: (1+g**2-((1-g**2)/(2*g*u+1-g))**2)/(2*g)\n",
    "U=uniform.rvs(size=10000)\n",
    "ETA=sample(U,g)\n",
    "\n",
    "sb.histplot(ETA,stat='density')\n",
    "eta=np.linspace(-1,1,1000)\n",
    "plt.plot(eta,f(eta,g),c='r')\n",
    "plt.show()"
   ]
  },
  {
   "cell_type": "markdown",
   "metadata": {},
   "source": [
    "**4.15**"
   ]
  },
  {
   "cell_type": "code",
   "execution_count": null,
   "metadata": {},
   "outputs": [],
   "source": [
    "f=lambda y: 0.5*(1+1/np.sqrt(y))*np.exp(-(y/2+np.sqrt(y)))\n",
    "sample=lambda u: (np.sqrt(1-2*np.log(1-u))-1)**2\n",
    "U=uniform.rvs(size=100000)\n",
    "Y=sample(U)\n",
    "\n",
    "sb.histplot(Y,stat='density')\n",
    "y=np.linspace(1e-2,10,1000)\n",
    "plt.plot(y,f(y),c='r')\n",
    "plt.show()\n",
    "\n",
    "print(np.mean(np.log(Y)))\n",
    "print(np.mean((np.log(Y)+1.68788)**2))"
   ]
  },
  {
   "cell_type": "markdown",
   "metadata": {},
   "source": [
    "**4.17**"
   ]
  },
  {
   "cell_type": "code",
   "execution_count": null,
   "metadata": {},
   "outputs": [],
   "source": [
    "size=100000\n",
    "mu=1000\n",
    "lmbd=49*gamma.rvs(size=size,a=mu/49)\n",
    "N=np.array([poisson.rvs(mu=lbd) for lbd in lmbd])\n",
    "theta=20000\n",
    "alpha=0.5\n",
    "X=[theta*gamma.rvs(size=n,a=alpha) for n in N]\n",
    "L=np.array([np.sum(x) for x in X])\n",
    "tau0=1000\n",
    "Y=[np.maximum(0,x-tau0) for x in X]\n",
    "tau1=200000\n",
    "Z=[np.minimum(tau1,y) for y in Y]\n",
    "C=np.array([np.sum(z) for z in Z])\n",
    "rho0=15000000\n",
    "rho1=100000000\n",
    "R=np.minimum(rho1,np.maximum(0,C-rho0))\n",
    "cost=C-R"
   ]
  },
  {
   "cell_type": "code",
   "execution_count": null,
   "metadata": {},
   "outputs": [],
   "source": [
    "print('a:',np.mean(cost),np.std(cost)/np.mean(cost))\n",
    "print('b:',np.mean(R),np.std(R)/np.mean(R))\n",
    "print('c:',np.mean(L-C),np.std(L-C)/np.mean(L-C))\n",
    "print('d:',np.mean(R!=0),np.std(R!=0)/np.mean(R!=0))"
   ]
  },
  {
   "cell_type": "markdown",
   "metadata": {},
   "source": [
    "**4.19**"
   ]
  },
  {
   "cell_type": "code",
   "execution_count": null,
   "metadata": {},
   "outputs": [],
   "source": [
    "U=uniform.rvs(size=10000)\n",
    "X=expon.ppf(q=beta.ppf(q=U,a=2,b=4),scale=500000)\n",
    "print(np.mean(X),np.std(X))\n",
    "\n",
    "X=[np.sort(expon.rvs(size=5,scale=500000))[1] for i in range(10000)]\n",
    "print(np.mean(X),np.std(X))"
   ]
  },
  {
   "cell_type": "code",
   "execution_count": null,
   "metadata": {},
   "outputs": [],
   "source": [
    "U=uniform.rvs(size=10000)\n",
    "X=expon.ppf(q=beta.ppf(q=U,a=1,b=4),scale=500000)\n",
    "print(np.mean(X),np.std(X))"
   ]
  },
  {
   "cell_type": "markdown",
   "metadata": {},
   "source": [
    "**4.20**"
   ]
  },
  {
   "cell_type": "code",
   "execution_count": null,
   "metadata": {},
   "outputs": [],
   "source": [
    "U=uniform.rvs(size=10000)\n",
    "X=expon.ppf(q=beta.ppf(q=beta.ppf(q=U,a=2,b=4),a=2,b=4),scale=500000)\n",
    "print(np.mean(X),np.std(X))\n",
    "\n",
    "X=[[np.sort(expon.rvs(size=5,scale=500000))[1] for i in range(5)] for j in range(10000)]\n",
    "X=[np.sort(x)[1] for x in X]\n",
    "print(np.mean(X),np.std(X))"
   ]
  },
  {
   "cell_type": "markdown",
   "metadata": {},
   "source": [
    "**4.21**"
   ]
  },
  {
   "cell_type": "code",
   "execution_count": null,
   "metadata": {},
   "outputs": [],
   "source": [
    "T_simple=lambda m,n: np.max(np.bincount(np.random.choice(range(n),m)))\n",
    "def T_choice(m,n):\n",
    "    bins=np.zeros(n)\n",
    "    for i in range(m):\n",
    "        a,b=np.random.choice(range(n),2,replace=False)\n",
    "        if bins[a]<bins[b]:\n",
    "            bins[a]+=1\n",
    "        elif bins[b]<bins[a]:\n",
    "            bins[b]+=1\n",
    "        elif bins[a]==bins[b]:\n",
    "            ab=np.random.choice([a,b])\n",
    "            bins[ab]+=1\n",
    "        else:\n",
    "            print('error')\n",
    "    \n",
    "    return np.max(bins)\n",
    "\n",
    "def T_stra_left(m,n):\n",
    "    bins=np.zeros(n)\n",
    "    for i in range(m):\n",
    "        a=np.random.choice(range(int(n/2)))\n",
    "        b=np.random.choice(range(int(n/2),n))\n",
    "        if bins[a]>bins[b]:\n",
    "            bins[b]+=1\n",
    "        elif bins[a]<=bins[b]:\n",
    "            bins[a]+=1\n",
    "        else:\n",
    "            print('error')\n",
    "    \n",
    "    return np.max(bins)\n",
    "\n",
    "def T_stra_odd(m,n):\n",
    "    bins=np.zeros(n)\n",
    "    for i in range(m):\n",
    "        a=np.random.choice(range(0,n,2))\n",
    "        b=np.random.choice(range(1,n,2))\n",
    "        if bins[a]>bins[b]:\n",
    "            bins[b]+=1\n",
    "        elif bins[a]<=bins[b]:\n",
    "            bins[a]+=1\n",
    "        else:\n",
    "            print('error')\n",
    "    \n",
    "    return np.max(bins)\n",
    "\n",
    "def T_stra(m,n):\n",
    "    bins=np.zeros(n)\n",
    "    for i in range(m):\n",
    "        a=np.random.choice(range(int(n/2)))\n",
    "        b=np.random.choice(range(int(n/2),n))\n",
    "        if bins[a]<bins[b]:\n",
    "            bins[a]+=1\n",
    "        elif bins[b]<bins[a]:\n",
    "            bins[b]+=1\n",
    "        elif bins[a]==bins[b]:\n",
    "            ab=np.random.choice([a,b])\n",
    "            bins[ab]+=1\n",
    "        else:\n",
    "            print('error')\n",
    "    \n",
    "    return np.max(bins)\n",
    "\n",
    "def T_left(m,n):\n",
    "    bins=np.zeros(n)\n",
    "    for i in range(m):\n",
    "        a,b=np.random.choice(range(n),2,replace=False)\n",
    "        if bins[a]<bins[b]:\n",
    "            bins[a]+=1\n",
    "        elif bins[b]<bins[a]:\n",
    "            bins[b]+=1\n",
    "        elif bins[a]==bins[b]:\n",
    "            bins[min(a,b)]+=1\n",
    "        else:\n",
    "            print('error')\n",
    "    \n",
    "    return np.max(bins)"
   ]
  },
  {
   "cell_type": "code",
   "execution_count": null,
   "metadata": {},
   "outputs": [],
   "source": [
    "m=100\n",
    "n=100\n",
    "N=10000\n",
    "T_sp=np.zeros(N)\n",
    "T_c=np.zeros(N)\n",
    "for i in range(N):\n",
    "    T_sp[i]=T_simple(m,n)\n",
    "    T_c[i]=T_choice(m,n)"
   ]
  },
  {
   "cell_type": "code",
   "execution_count": null,
   "metadata": {},
   "outputs": [],
   "source": [
    "sb.histplot(T_sp,stat='density',label='simple',color='g')\n",
    "sb.histplot(T_c,stat='density',label='choice',color='r')\n",
    "plt.legend()\n",
    "plt.show()"
   ]
  },
  {
   "cell_type": "markdown",
   "metadata": {},
   "source": [
    "**4.23**"
   ]
  },
  {
   "cell_type": "code",
   "execution_count": null,
   "metadata": {},
   "outputs": [],
   "source": [
    "m=10\n",
    "n=10\n",
    "N=100000\n",
    "T_c=np.zeros(N)\n",
    "T_sl=np.zeros(N)\n",
    "T_so=np.zeros(N)\n",
    "T_s=np.zeros(N)\n",
    "T_l=np.zeros(N)\n",
    "for i in range(N):\n",
    "    T_c[i]=T_choice(m,n)\n",
    "    T_sl[i]=T_stra_left(m,n)\n",
    "    T_so[i]=T_stra_odd(m,n)\n",
    "    T_s[i]=T_stra(m,n)\n",
    "    T_l[i]=T_left(m,n)"
   ]
  },
  {
   "cell_type": "code",
   "execution_count": null,
   "metadata": {},
   "outputs": [],
   "source": [
    "print(np.bincount(T_c.astype(np.int8)))\n",
    "print(np.bincount(T_sl.astype(np.int8)))\n",
    "print(np.bincount(T_so.astype(np.int8)))\n",
    "print(np.bincount(T_s.astype(np.int8)))\n",
    "print(np.bincount(T_l.astype(np.int8)))"
   ]
  }
 ],
 "metadata": {
  "kernelspec": {
   "display_name": "Python 3",
   "language": "python",
   "name": "python3"
  },
  "language_info": {
   "codemirror_mode": {
    "name": "ipython",
    "version": 3
   },
   "file_extension": ".py",
   "mimetype": "text/x-python",
   "name": "python",
   "nbconvert_exporter": "python",
   "pygments_lexer": "ipython3",
   "version": "3.9.1"
  }
 },
 "nbformat": 4,
 "nbformat_minor": 4
}
