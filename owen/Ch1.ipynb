{
 "cells": [
  {
   "cell_type": "code",
   "execution_count": null,
   "metadata": {},
   "outputs": [],
   "source": [
    "from matplotlib import pyplot as plt\n",
    "import numpy as np\n",
    "from scipy.stats import uniform,norm"
   ]
  },
  {
   "cell_type": "markdown",
   "metadata": {},
   "source": [
    "**1.1**"
   ]
  },
  {
   "cell_type": "code",
   "execution_count": null,
   "metadata": {},
   "outputs": [],
   "source": [
    "def traffic(M,B,v_max,k,p,T,rand_init=True):\n",
    "    if rand_init:\n",
    "        x=np.random.choice(np.arange(M),k,replace=False)\n",
    "    else:\n",
    "        x=np.arange(k)\n",
    "        \n",
    "    x.sort()\n",
    "    v=np.zeros(k)\n",
    "    X=np.array(np.ones([B+T+1,M]))\n",
    "    X[0,x]=0\n",
    "    stop=0\n",
    "    speed=0\n",
    "    for i in range(B+T):\n",
    "        v=np.minimum(v+1,v_max)\n",
    "        d=x[1:]-x[:-1]\n",
    "        d=np.append(d,M+x[0]-x[-1])\n",
    "        v=np.minimum(v,d-1)\n",
    "        P=uniform.rvs(size=k)\n",
    "        v=np.maximum(0,v-1)*(P<=p)+v*(P>p)\n",
    "        x=x+v\n",
    "        if x[-1]>=M:\n",
    "            x=np.append(x[-1]-M,x[:-1])\n",
    "            v=np.append(v[-1],v[:-1])\n",
    "        \n",
    "        X[i,x.astype(int)]=0\n",
    "        if i>=B:\n",
    "            stop+=np.mean(v==0)\n",
    "            speed+=np.mean(v)\n",
    "\n",
    "    X=X[B+1:,]\n",
    "    print('Number of vehicles:',k)\n",
    "    print('Average stop rate:',stop/T)\n",
    "    print('Average speed:',speed/T)\n",
    "    return X"
   ]
  },
  {
   "cell_type": "code",
   "execution_count": null,
   "metadata": {},
   "outputs": [],
   "source": [
    "M=1000\n",
    "B=1000\n",
    "v_max=5\n",
    "p=1/3\n",
    "T=1000\n",
    "\n",
    "for k in range(50,501,5):\n",
    "    X=traffic(M,B,v_max,k,p,T,rand_init=True)\n",
    "    plt.rcParams['figure.figsize']=(5.0,5.0)\n",
    "    plt.imshow(X,cmap='gray')\n",
    "    plt.show()"
   ]
  },
  {
   "cell_type": "code",
   "execution_count": null,
   "metadata": {},
   "outputs": [],
   "source": [
    "for k in range(50,501,5):\n",
    "    X=traffic(M,B,v_max,k,p,T,rand_init=False)\n",
    "    plt.rcParams['figure.figsize']=(5.0,5.0)\n",
    "    plt.imshow(X,cmap='gray')\n",
    "    plt.show()"
   ]
  },
  {
   "cell_type": "markdown",
   "metadata": {},
   "source": [
    "**1.2**"
   ]
  },
  {
   "cell_type": "code",
   "execution_count": null,
   "metadata": {},
   "outputs": [],
   "source": [
    "D=[2,3,4,5,10,20]\n",
    "eps=0.1\n",
    "N=100000\n",
    "for d in D:\n",
    "    U=np.array([uniform.rvs(size=N) for i in range(d)])\n",
    "    dB=np.min([U,1-U],axis=0).min(axis=0)\n",
    "    dC=np.abs(np.sum(U-0.5,axis=0))/np.sqrt(d)\n",
    "    print('Dimension',d,'volume: ',np.mean((dB<=eps)*(dC<=eps)))\n",
    "    \n",
    "print('Really dimension',2,'volume: ',4*np.sqrt(2)*eps**2)"
   ]
  },
  {
   "cell_type": "markdown",
   "metadata": {},
   "source": [
    "**1.3**"
   ]
  },
  {
   "cell_type": "code",
   "execution_count": null,
   "metadata": {},
   "outputs": [],
   "source": [
    "A=np.array([[0.45,0.04,0.56,0.20,0.54,0.00],[0.05,0.13,0.49,0.30,0.30,0.00]])\n",
    "B=np.array([[0.05,0.18,0.16,0.95,0.40,0.60],[0.45,0.32,0.50,0.40,0.59,0.45]])"
   ]
  },
  {
   "cell_type": "code",
   "execution_count": null,
   "metadata": {},
   "outputs": [],
   "source": [
    "tD=np.sqrt(np.sum((A-B)**2,axis=0))\n",
    "tE=np.abs(np.sqrt(np.sum((A.T-np.zeros(2))**2,axis=1))-0.5)\n",
    "tE+=np.abs(np.sqrt(np.sum((B.T-np.zeros(2))**2,axis=1))-0.5)\n",
    "\n",
    "x=np.linspace(0,0.5,1000)\n",
    "plt.plot([0,1,1,0,0],[0,0,0.6,0.6,0],'k',label='R')\n",
    "plt.plot(x,np.sqrt(1/4-x**2),'--g',label='C')\n",
    "plt.plot(A[0,],A[1,],'.b',label='a')\n",
    "plt.plot(B[0,],B[1,],'.r',label='b')\n",
    "for i in np.arange(0,6)[tD>=tE]:\n",
    "    plt.plot([A[0,i],B[0,i]],[A[1,i],B[1,i]],'y')\n",
    "    \n",
    "for i in np.arange(0,6)[tD<tE]:\n",
    "    plt.plot([A[0,i],B[0,i]],[A[1,i],B[1,i]],'c')\n",
    "    \n",
    "plt.legend()\n",
    "plt.show()"
   ]
  },
  {
   "cell_type": "code",
   "execution_count": null,
   "metadata": {},
   "outputs": [],
   "source": [
    "N=1000\n",
    "A=np.array([uniform.rvs(size=N),uniform.rvs(size=N,scale=0.6)])\n",
    "B=np.array([uniform.rvs(size=N),uniform.rvs(size=N,scale=0.6)])\n",
    "\n",
    "tD=np.sqrt(np.sum((A-B)**2,axis=0))\n",
    "tE=np.abs(np.sqrt(np.sum(A**2,axis=0))-0.5)\n",
    "tE+=np.abs(np.sqrt(np.sum(B**2,axis=0))-0.5)\n",
    "t=np.minimum(tD,tE)\n",
    "\n",
    "x=np.linspace(0,0.5,1000)\n",
    "plt.plot([0,1,1,0,0],[0,0,0.6,0.6,0],'k',label='R')\n",
    "plt.plot(x,np.sqrt(1/4-x**2),'--g',label='C')\n",
    "plt.plot(A[0,],A[1,],'.b',label='a')\n",
    "plt.plot(B[0,],B[1,],'.r',label='b')\n",
    "for i in np.arange(0,N)[tD>=tE]:\n",
    "    plt.plot([A[0,i],B[0,i]],[A[1,i],B[1,i]],'y')\n",
    "    \n",
    "for i in np.arange(0,N)[tD<tE]:\n",
    "    plt.plot([A[0,i],B[0,i]],[A[1,i],B[1,i]],'c')\n",
    "    \n",
    "plt.legend()\n",
    "plt.show()\n",
    "\n",
    "print('Average time:',np.mean(t))"
   ]
  }
 ],
 "metadata": {
  "kernelspec": {
   "display_name": "Python 3",
   "language": "python",
   "name": "python3"
  },
  "language_info": {
   "codemirror_mode": {
    "name": "ipython",
    "version": 3
   },
   "file_extension": ".py",
   "mimetype": "text/x-python",
   "name": "python",
   "nbconvert_exporter": "python",
   "pygments_lexer": "ipython3",
   "version": "3.9.1"
  },
  "toc": {
   "base_numbering": 1,
   "nav_menu": {},
   "number_sections": true,
   "sideBar": true,
   "skip_h1_title": false,
   "title_cell": "Table of Contents",
   "title_sidebar": "Contents",
   "toc_cell": false,
   "toc_position": {},
   "toc_section_display": true,
   "toc_window_display": false
  }
 },
 "nbformat": 4,
 "nbformat_minor": 4
}
