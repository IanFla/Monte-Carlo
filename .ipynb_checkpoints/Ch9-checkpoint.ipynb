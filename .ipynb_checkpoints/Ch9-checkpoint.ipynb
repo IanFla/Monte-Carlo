{
 "cells": [
  {
   "cell_type": "code",
   "execution_count": 1,
   "metadata": {},
   "outputs": [],
   "source": [
    "from matplotlib import pyplot as plt\n",
    "import seaborn as sb\n",
    "import numpy as np\n",
    "from scipy.stats import uniform,norm,t,binom,expon,chi2,gamma,poisson,beta,dirichlet\n",
    "from scipy.stats import multivariate_normal as multi_norm\n",
    "from sklearn.linear_model import LinearRegression as Linear\n",
    "from scipy.optimize import brentq\n",
    "from scipy.special import perm,comb\n",
    "import time\n",
    "import pandas as pd"
   ]
  },
  {
   "cell_type": "markdown",
   "metadata": {},
   "source": [
    "**9.11**"
   ]
  },
  {
   "cell_type": "code",
   "execution_count": 2,
   "metadata": {},
   "outputs": [],
   "source": [
    "def estimate(tau,size):\n",
    "    p=lambda x: norm.pdf(x=x)\n",
    "    q=lambda x: norm.pdf(x=x,loc=tau)\n",
    "    f=lambda x: (x>tau)*1.0\n",
    "    Sp=norm.rvs(size=size)\n",
    "    Sq=Sp+tau\n",
    "    Fp=f(Sp)\n",
    "    Fq=f(Sq)*p(Sq)/q(Sq)\n",
    "    ne=np.exp(-tau**2)*size\n",
    "    W=p(Sq)/q(Sq)\n",
    "    W=(W/W.sum())**2\n",
    "    nee=1/W.sum()\n",
    "    W=(Fq/Fq.sum())**2\n",
    "    nfe=1/W.sum()\n",
    "    print('ne:',ne,nee)\n",
    "    print('nf:',nfe)\n",
    "    print('E',norm.cdf(-tau))\n",
    "    print('Ep:',np.mean(Fp),np.std(Fp)/np.sqrt(size),np.std(Fp)/norm.cdf(-tau))\n",
    "    print('Eq:',np.mean(Fq),np.std(Fq)/np.sqrt(size),np.std(Fq)/norm.cdf(-tau))"
   ]
  },
  {
   "cell_type": "code",
   "execution_count": 3,
   "metadata": {},
   "outputs": [
    {
     "name": "stdout",
     "output_type": "stream",
     "text": [
      "ne: 123.40980408667956 467.5747074418265\n",
      "nf: 227699.9713140061\n",
      "E 0.0013498980316300933\n",
      "Ep: 0.001332 3.647226036318562e-05 27.01852992491803\n",
      "Eq: 0.0013476121127147457 2.4818552214769088e-06 1.8385501447690094\n",
      "\n",
      "ne: 3.720075976020836e-38 2.152083869442519\n",
      "nf: 78390.09692305505\n",
      "E 7.61985302416047e-24\n",
      "Ep: 0.0 0.0 0.0\n",
      "Eq: 7.616082194583531e-24 2.6114071453108145e-26 3.427109600448666\n"
     ]
    }
   ],
   "source": [
    "estimate(3,1000000)\n",
    "print()\n",
    "estimate(10,1000000)"
   ]
  },
  {
   "cell_type": "markdown",
   "metadata": {},
   "source": [
    "**9.24**"
   ]
  },
  {
   "cell_type": "code",
   "execution_count": 4,
   "metadata": {},
   "outputs": [],
   "source": [
    "def randwalk(size,drift):\n",
    "    F1=np.zeros(size)\n",
    "    F2=np.zeros(size)\n",
    "    for i in range(size):\n",
    "        S1=0\n",
    "        S2=0\n",
    "        while S1>-7 and S1<20:\n",
    "            S1+=norm.rvs(loc=-drift)\n",
    "            \n",
    "        while S2>-7 and S2<20:\n",
    "            S2+=norm.rvs(loc=drift)\n",
    "            \n",
    "        if S1>=20:\n",
    "            F1[i]=np.exp(2*drift*S1)\n",
    "            \n",
    "        if S2>=20:\n",
    "            F2[i]=1\n",
    "            \n",
    "    return F1,F2"
   ]
  },
  {
   "cell_type": "code",
   "execution_count": 5,
   "metadata": {},
   "outputs": [
    {
     "name": "stdout",
     "output_type": "stream",
     "text": [
      "1.7020355606978965e-27 2.2192850863842303e-29\n",
      "0.0 0.0\n"
     ]
    }
   ],
   "source": [
    "F1,F2=randwalk(10000,-1.5)\n",
    "print(F1.mean(),F1.std()/100)\n",
    "print(F2.mean(),F2.std()/100)"
   ]
  },
  {
   "cell_type": "code",
   "execution_count": null,
   "metadata": {},
   "outputs": [],
   "source": []
  },
  {
   "cell_type": "code",
   "execution_count": null,
   "metadata": {},
   "outputs": [],
   "source": []
  },
  {
   "cell_type": "code",
   "execution_count": null,
   "metadata": {},
   "outputs": [],
   "source": []
  },
  {
   "cell_type": "code",
   "execution_count": null,
   "metadata": {},
   "outputs": [],
   "source": []
  },
  {
   "cell_type": "code",
   "execution_count": null,
   "metadata": {},
   "outputs": [],
   "source": []
  }
 ],
 "metadata": {
  "kernelspec": {
   "display_name": "Python 3",
   "language": "python",
   "name": "python3"
  },
  "language_info": {
   "codemirror_mode": {
    "name": "ipython",
    "version": 3
   },
   "file_extension": ".py",
   "mimetype": "text/x-python",
   "name": "python",
   "nbconvert_exporter": "python",
   "pygments_lexer": "ipython3",
   "version": "3.9.1"
  }
 },
 "nbformat": 4,
 "nbformat_minor": 4
}
