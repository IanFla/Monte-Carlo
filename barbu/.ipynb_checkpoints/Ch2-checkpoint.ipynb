{
 "cells": [
  {
   "cell_type": "code",
   "execution_count": 1,
   "metadata": {},
   "outputs": [],
   "source": [
    "import numpy as np\n",
    "import matplotlib.pyplot as plt\n",
    "import scipy.stats as st"
   ]
  },
  {
   "cell_type": "markdown",
   "metadata": {},
   "source": [
    "# Prob 1"
   ]
  },
  {
   "cell_type": "markdown",
   "metadata": {},
   "source": [
    "## (i)"
   ]
  },
  {
   "cell_type": "code",
   "execution_count": 2,
   "metadata": {},
   "outputs": [
    {
     "data": {
      "image/png": "[encoded data removed]",
      "text/plain": [
       "<Figure size 432x288 with 1 Axes>"
      ]
     },
     "metadata": {
      "needs_background": "light"
     },
     "output_type": "display_data"
    }
   ],
   "source": [
    "pi = st.multivariate_normal(mean=[2, 2])\n",
    "g = lambda s0: st.multivariate_normal(mean=[0, 0], cov=s0**2)\n",
    "f = lambda x: np.sqrt((x**2).sum(axis=1))\n",
    "\n",
    "n = 100000\n",
    "x1 = pi.rvs(n)\n",
    "fx1 = f(x1)\n",
    "est1 = np.cumsum(fx1) / np.arange(1, n + 1)\n",
    "x2 = g(1).rvs(n)\n",
    "fwx2 = f(x2) * pi.pdf(x2) / g(1).pdf(x2)\n",
    "est2 = np.cumsum(fwx2) / np.arange(1, n + 1)\n",
    "x3 = g(4).rvs(n)\n",
    "fwx3 = f(x3) * pi.pdf(x3) / g(4).pdf(x3)\n",
    "est3 = np.cumsum(fwx3) / np.arange(1, n + 1)\n",
    "\n",
    "plt.loglog(np.arange(1, n + 1), est1, label='est 1')\n",
    "plt.loglog(np.arange(1, n + 1), est2, label='est 2')\n",
    "plt.loglog(np.arange(1, n + 1), est3, label='est 3')\n",
    "plt.legend()\n",
    "plt.show()"
   ]
  },
  {
   "cell_type": "markdown",
   "metadata": {},
   "source": [
    "## (ii)"
   ]
  },
  {
   "cell_type": "code",
   "execution_count": 3,
   "metadata": {},
   "outputs": [
    {
     "name": "stdout",
     "output_type": "stream",
     "text": [
      "0.00010932906332760437\n",
      "0.09395950294725941\n"
     ]
    }
   ],
   "source": [
    "print(1 / (1 + np.var(pi.pdf(x2) / g(1).pdf(x2)) \n",
    "           / (pi.pdf(x2) / g(1).pdf(x2)).mean() ** 2))\n",
    "print(1 / (1 + np.var(pi.pdf(x3) / g(4).pdf(x3)) \n",
    "           / (pi.pdf(x3) / g(4).pdf(x3)).mean() ** 2))"
   ]
  },
  {
   "cell_type": "code",
   "execution_count": null,
   "metadata": {},
   "outputs": [],
   "source": []
  },
  {
   "cell_type": "markdown",
   "metadata": {},
   "source": [
    "# Prob 2"
   ]
  },
  {
   "cell_type": "markdown",
   "metadata": {},
   "source": [
    "## 1"
   ]
  },
  {
   "cell_type": "code",
   "execution_count": 4,
   "metadata": {},
   "outputs": [],
   "source": [
    "class SAW:\n",
    "    def __init__(self, n=10, \n",
    "                 ps = np.array([0.04, 0.24, 0.24, 0.24, 0.24])):\n",
    "        self.n = n\n",
    "        self.ps = ps\n",
    "        \n",
    "    def compare(self, olds, new):\n",
    "        olds = olds[:, 0] * (self.n + 1) + olds[:, 1]\n",
    "        new = new[0] * (self.n + 1) + new[1]\n",
    "        return any(olds == new)\n",
    "    \n",
    "    def walk(self, pos, a):\n",
    "        new = pos.copy()\n",
    "        if a == 1:\n",
    "            new[1] += 1\n",
    "        elif a == 2:\n",
    "            new[1] -= 1\n",
    "        elif a == 3:\n",
    "            new[0] -= 1\n",
    "        elif a == 4:\n",
    "            new[0] += 1\n",
    "            \n",
    "        return new\n",
    "    \n",
    "    def test(self, path):\n",
    "        choice = [0]\n",
    "        for a in np.arange(1, 5):\n",
    "            new = self.walk(path[-1], a)\n",
    "            border = any(new < 0) or any(new > self.n)\n",
    "            if not (border or self.compare(path[:-1], new)):\n",
    "                choice.append(a)\n",
    "                \n",
    "        return choice\n",
    "    \n",
    "    def simulate(self):\n",
    "        path = np.array([[0, 0]])\n",
    "        flag = True\n",
    "        w = 1\n",
    "        while flag:\n",
    "            choice = self.test(path)\n",
    "            ps = self.ps[choice] / self.ps[choice].sum()\n",
    "            a = np.random.choice(choice, p=ps)\n",
    "            w /= ps[choice == a][0]\n",
    "            if a == 0:\n",
    "                flag = False\n",
    "            else:\n",
    "                path = np.vstack([path, self.walk(path[-1], a)])\n",
    "            \n",
    "        return path, w"
   ]
  },
  {
   "cell_type": "code",
   "execution_count": 5,
   "metadata": {},
   "outputs": [
    {
     "name": "stdout",
     "output_type": "stream",
     "text": [
      "1.2431652691821522e+25\n"
     ]
    },
    {
     "data": {
      "image/png": "[encoded data removed]",
      "text/plain": [
       "<Figure size 432x288 with 1 Axes>"
      ]
     },
     "metadata": {
      "needs_background": "light"
     },
     "output_type": "display_data"
    },
    {
     "name": "stdout",
     "output_type": "stream",
     "text": [
      "102 3.469117138604462e+24\n"
     ]
    },
    {
     "data": {
      "image/png": "[encoded data removed]",
      "text/plain": [
       "<Figure size 432x288 with 1 Axes>"
      ]
     },
     "metadata": {
      "needs_background": "light"
     },
     "output_type": "display_data"
    },
    {
     "data": {
      "image/png": "[encoded data removed]",
      "text/plain": [
       "<Figure size 432x288 with 1 Axes>"
      ]
     },
     "metadata": {
      "needs_background": "light"
     },
     "output_type": "display_data"
    }
   ],
   "source": [
    "n = 10\n",
    "M = 10000\n",
    "ps = np.array([1, 100, 40, 40, 100])\n",
    "saw = SAW(n=n, ps=ps / ps.sum())\n",
    "\n",
    "Path = []\n",
    "Len = []\n",
    "W = []\n",
    "for m in range(M):\n",
    "    path, w = saw.simulate()\n",
    "    Path.append(path)\n",
    "    Len.append(path.shape[0])\n",
    "    W.append(w)\n",
    "\n",
    "print(np.mean(W))\n",
    "\n",
    "path = Path[Len.index(max(Len))]\n",
    "w = W[Len.index(max(Len))]\n",
    "cx = [0, 0, saw.n, saw.n]\n",
    "cy = [0, saw.n, saw.n, 0]\n",
    "plt.plot(cx, cy, 'r.')\n",
    "plt.plot(path[:, 0], path[:, 1])\n",
    "plt.axis('scaled')\n",
    "plt.show()\n",
    "print(path.shape[0] - 1, w)\n",
    "\n",
    "means = np.cumsum(W) / np.arange(1, M + 1)\n",
    "plt.loglog(np.arange(1, M + 1), means)\n",
    "plt.show()\n",
    "\n",
    "plt.hist(Len, weights=W, bins=30)\n",
    "plt.show()"
   ]
  },
  {
   "cell_type": "markdown",
   "metadata": {},
   "source": [
    "## 2"
   ]
  },
  {
   "cell_type": "code",
   "execution_count": 6,
   "metadata": {},
   "outputs": [
    {
     "name": "stdout",
     "output_type": "stream",
     "text": [
      "3.0979652477334507e+20\n"
     ]
    },
    {
     "data": {
      "image/png": "[encoded data removed]",
      "text/plain": [
       "<Figure size 432x288 with 1 Axes>"
      ]
     },
     "metadata": {
      "needs_background": "light"
     },
     "output_type": "display_data"
    },
    {
     "name": "stdout",
     "output_type": "stream",
     "text": [
      "72 3.07824304689941e+24\n"
     ]
    },
    {
     "data": {
      "image/png": "[encoded data removed]",
      "text/plain": [
       "<Figure size 432x288 with 1 Axes>"
      ]
     },
     "metadata": {
      "needs_background": "light"
     },
     "output_type": "display_data"
    },
    {
     "data": {
      "image/png": "[encoded data removed]",
      "text/plain": [
       "<Figure size 432x288 with 1 Axes>"
      ]
     },
     "metadata": {
      "needs_background": "light"
     },
     "output_type": "display_data"
    }
   ],
   "source": [
    "n = 10\n",
    "M = 10000\n",
    "ps = np.array([1, 1000, 400, 400, 1000])\n",
    "saw = SAW(n=n, ps=ps / ps.sum())\n",
    "\n",
    "Path = []\n",
    "Len = []\n",
    "W = []\n",
    "for m in range(M):\n",
    "    path, w = saw.simulate()\n",
    "    Path.append(path)\n",
    "    if all(path[-1] == np.array([saw.n, saw.n])):\n",
    "        Len.append(path.shape[0])\n",
    "        W.append(w)\n",
    "    else:\n",
    "        Len.append(0)\n",
    "        W.append(0)\n",
    "\n",
    "print(np.mean(W))\n",
    "\n",
    "path = Path[Len.index(max(Len))]\n",
    "w = W[Len.index(max(Len))]\n",
    "cx = [0, 0, saw.n, saw.n]\n",
    "cy = [0, saw.n, saw.n, 0]\n",
    "plt.plot(cx, cy, 'r.')\n",
    "plt.plot(path[:, 0], path[:, 1])\n",
    "plt.axis('scaled')\n",
    "plt.show()\n",
    "print(path.shape[0] - 1, w)\n",
    "\n",
    "means = np.cumsum(W) / np.arange(1, M + 1)\n",
    "plt.loglog(np.arange(1, M + 1), means)\n",
    "plt.show()\n",
    "\n",
    "Len = np.array(Len)\n",
    "plt.hist(Len[Len != 0], weights=np.array(W)[Len != 0], bins=30)\n",
    "plt.show()"
   ]
  },
  {
   "cell_type": "code",
   "execution_count": null,
   "metadata": {},
   "outputs": [],
   "source": []
  },
  {
   "cell_type": "code",
   "execution_count": null,
   "metadata": {},
   "outputs": [],
   "source": []
  }
 ],
 "metadata": {
  "kernelspec": {
   "display_name": "Python 3",
   "language": "python",
   "name": "python3"
  },
  "language_info": {
   "codemirror_mode": {
    "name": "ipython",
    "version": 3
   },
   "file_extension": ".py",
   "mimetype": "text/x-python",
   "name": "python",
   "nbconvert_exporter": "python",
   "pygments_lexer": "ipython3",
   "version": "3.9.2"
  }
 },
 "nbformat": 4,
 "nbformat_minor": 4
}
