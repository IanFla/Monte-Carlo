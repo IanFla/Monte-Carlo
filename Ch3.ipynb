{
 "cells": [
  {
   "cell_type": "code",
   "execution_count": null,
   "metadata": {},
   "outputs": [],
   "source": [
    "from matplotlib import pyplot as plt\n",
    "import numpy as np\n",
    "from scipy.stats import uniform,norm,t,binom,expon,chi2\n",
    "import seaborn as sb\n",
    "from scipy.optimize import brentq"
   ]
  },
  {
   "cell_type": "markdown",
   "metadata": {},
   "source": [
    "**3.2**"
   ]
  },
  {
   "cell_type": "code",
   "execution_count": null,
   "metadata": {},
   "outputs": [],
   "source": [
    "X=[1]\n",
    "a=44\n",
    "for i in range(59):\n",
    "    x=np.mod(a*X[-1],59)\n",
    "    X.append(x)\n",
    "\n",
    "X=np.array(X)/59\n",
    "plt.plot(X[:-1],X[1:],'.b',label='a=44')\n",
    "\n",
    "X=[1]\n",
    "a=30\n",
    "for i in range(59):\n",
    "    x=np.mod(a*X[-1],59)\n",
    "    X.append(x)\n",
    "\n",
    "X=np.array(X)/59\n",
    "plt.plot(X[:-1],X[1:],'.r',label='a='+str(a))\n",
    "\n",
    "plt.legend()\n",
    "plt.show()"
   ]
  },
  {
   "cell_type": "markdown",
   "metadata": {},
   "source": [
    "**3.3**"
   ]
  },
  {
   "cell_type": "code",
   "execution_count": null,
   "metadata": {},
   "outputs": [],
   "source": [
    "def upper_bound(k,P):\n",
    "    return (np.math.factorial(k)*P)**(1/k)"
   ]
  },
  {
   "cell_type": "code",
   "execution_count": null,
   "metadata": {},
   "outputs": [],
   "source": [
    "print(upper_bound(10,2**32))\n",
    "print(upper_bound(10,2**64))\n",
    "print(upper_bound(20,2**64))\n",
    "print(upper_bound(100,2**64))"
   ]
  },
  {
   "cell_type": "markdown",
   "metadata": {},
   "source": [
    "**3.4**"
   ]
  },
  {
   "cell_type": "code",
   "execution_count": null,
   "metadata": {},
   "outputs": [],
   "source": [
    "a=np.math.factorial(10)**(1/10)\n",
    "b=2**199.37\n",
    "print(a)\n",
    "print(b)\n",
    "c=b/10**60\n",
    "print(str(a*c**10)+'e+'+str(600))"
   ]
  },
  {
   "cell_type": "markdown",
   "metadata": {},
   "source": [
    "**3.5**"
   ]
  },
  {
   "cell_type": "code",
   "execution_count": null,
   "metadata": {},
   "outputs": [],
   "source": [
    "def invert(x,p):\n",
    "    x=np.mod(x,p)\n",
    "    for y in range(p):\n",
    "        if np.mod(x*y,p)==1 or x==0:\n",
    "            return y"
   ]
  },
  {
   "cell_type": "code",
   "execution_count": null,
   "metadata": {},
   "outputs": [],
   "source": [
    "X=[0]\n",
    "a0=1\n",
    "a1=17\n",
    "for i in range(59):\n",
    "    x=np.mod(a0+a1*invert(X[-1],59),59)\n",
    "    if x==0:\n",
    "        print('period:',i+1)\n",
    "    \n",
    "    X.append(x)\n",
    "\n",
    "X=np.array(X)/59\n",
    "plt.plot(X[:-1],X[1:],'.r')\n",
    "plt.show()"
   ]
  },
  {
   "cell_type": "markdown",
   "metadata": {},
   "source": [
    "**3.6**"
   ]
  },
  {
   "cell_type": "code",
   "execution_count": null,
   "metadata": {},
   "outputs": [],
   "source": [
    "def pi(n):\n",
    "    p = 10 ** (n + 10)\n",
    "    a = p * 16 // 5\n",
    "    b = p * 4 // -239\n",
    "    f = a + b \n",
    "    p = f\n",
    "    j = 3              \n",
    "    while abs(f):\n",
    "        a //= -25\n",
    "        b //= -57121\n",
    "        f = (a + b) // j\n",
    "        p += f\n",
    "        j += 2\n",
    "    return p // 10**10 "
   ]
  },
  {
   "cell_type": "code",
   "execution_count": null,
   "metadata": {},
   "outputs": [],
   "source": [
    "X=str(pi(10001))\n",
    "X=np.array([int(x) for x in X[1:]])\n",
    "sb.histplot(X,bins=10)\n",
    "plt.show()"
   ]
  },
  {
   "cell_type": "code",
   "execution_count": null,
   "metadata": {},
   "outputs": [],
   "source": [
    "X2=0\n",
    "for i in range(10):\n",
    "    EX=np.sum(X==i)\n",
    "    X2+=(EX-10000*0.1)**2/EX\n",
    "    \n",
    "print(X2)\n",
    "p=1-chi2.cdf(X2,df=9)\n",
    "print(p)"
   ]
  },
  {
   "cell_type": "code",
   "execution_count": null,
   "metadata": {},
   "outputs": [],
   "source": [
    "XX=np.array([X[:-1],X[1:]]).T\n",
    "EXX=np.zeros((10,10))\n",
    "for xx in XX:\n",
    "    EXX[xx[0],xx[1]]+=1\n",
    "    \n",
    "OXX=100*np.ones((10,10))\n",
    "X2=np.sum((EXX-OXX)**2/EXX)\n",
    "print(X2)\n",
    "p=1-chi2.cdf(X2,df=99)\n",
    "print(p)"
   ]
  },
  {
   "cell_type": "code",
   "execution_count": null,
   "metadata": {},
   "outputs": [],
   "source": [
    "X=str(pi(300001))\n",
    "X=np.array([int(x) for x in X[1:]])\n",
    "sb.histplot(X,bins=10)\n",
    "plt.show()"
   ]
  },
  {
   "cell_type": "code",
   "execution_count": null,
   "metadata": {},
   "outputs": [],
   "source": [
    "P=np.zeros(1000)\n",
    "for k in range(1000):\n",
    "    x=X[k:k+300]\n",
    "    X2=0\n",
    "    for i in range(10):\n",
    "        EX=np.sum(x==i)\n",
    "        X2+=(EX-30)**2/EX\n",
    "\n",
    "    P[k]=1-chi2.cdf(X2,df=9)"
   ]
  },
  {
   "cell_type": "code",
   "execution_count": null,
   "metadata": {},
   "outputs": [],
   "source": [
    "print(min(P),max(P))\n",
    "sb.histplot(P)\n",
    "plt.show()"
   ]
  },
  {
   "cell_type": "markdown",
   "metadata": {},
   "source": [
    "**3.11**"
   ]
  },
  {
   "cell_type": "code",
   "execution_count": null,
   "metadata": {},
   "outputs": [],
   "source": [
    "def power(nums):\n",
    "    res=[[]]\n",
    "    for num in nums: \n",
    "        res+=[i+[num] for i in res]\n",
    "        \n",
    "    return res\n",
    "\n",
    "def pairs(nums):\n",
    "    res=[]\n",
    "    for i in range(nums.size):\n",
    "        res+=[[nums[i],nums[j]] for j in range(i+1,nums.size)]\n",
    "        \n",
    "    return res"
   ]
  },
  {
   "cell_type": "code",
   "execution_count": null,
   "metadata": {},
   "outputs": [],
   "source": [
    "n=8\n",
    "T=10000\n",
    "Y1=np.zeros(T)\n",
    "for t in range(T):\n",
    "    U=uniform.rvs(size=n)\n",
    "    U1=np.array([np.mod(np.sum(u),1) for u in power(U)[1:]])\n",
    "    Y1[t]=np.mean(np.exp(norm.ppf(U1)))\n",
    "    \n",
    "sb.histplot(Y1)\n",
    "plt.show()"
   ]
  },
  {
   "cell_type": "code",
   "execution_count": null,
   "metadata": {},
   "outputs": [],
   "source": [
    "n=23\n",
    "T=10000\n",
    "Y2=np.zeros(T)\n",
    "for t in range(T):\n",
    "    U=uniform.rvs(size=n)\n",
    "    U2=np.array([np.mod(np.sum(u),1) for u in pairs(U)[1:]])\n",
    "    Y2[t]=np.mean(np.exp(norm.ppf(U2)))\n",
    "    \n",
    "sb.histplot(Y2)\n",
    "plt.show()"
   ]
  },
  {
   "cell_type": "code",
   "execution_count": null,
   "metadata": {},
   "outputs": [],
   "source": [
    "mu=np.exp(1/2)\n",
    "\n",
    "sb.histplot(Y1,color='b',label='method 1')\n",
    "sb.histplot(Y2,color='g',label='method 2')\n",
    "plt.plot(mu,0,'or')\n",
    "plt.legend()\n",
    "plt.show()\n",
    "\n",
    "Y1.sort()\n",
    "Y2.sort()\n",
    "plt.plot(Y1,Y2,label='comparison')\n",
    "plt.plot([Y1[0],Y1[-1]],[mu+(Y1[0]-mu)*np.sqrt(253/255),mu+(Y1[-1]-mu)*np.sqrt(253/255)],'g',label='reference line')\n",
    "plt.plot(mu,mu,'or')\n",
    "plt.xlabel('method 1')\n",
    "plt.ylabel('method 2')\n",
    "plt.legend()\n",
    "plt.show()\n",
    "\n",
    "print(np.sum(np.abs(Y1-mu))/np.sum(np.abs(Y2-mu)))\n",
    "print(np.sum((Y1-mu)**2)/np.sum((Y2-mu)**2))\n",
    "print(np.sum((Y1-mu)**4)/np.sum((Y2-mu)**4))"
   ]
  }
 ],
 "metadata": {
  "kernelspec": {
   "display_name": "Python 3",
   "language": "python",
   "name": "python3"
  },
  "language_info": {
   "codemirror_mode": {
    "name": "ipython",
    "version": 3
   },
   "file_extension": ".py",
   "mimetype": "text/x-python",
   "name": "python",
   "nbconvert_exporter": "python",
   "pygments_lexer": "ipython3",
   "version": "3.9.1"
  }
 },
 "nbformat": 4,
 "nbformat_minor": 4
}
