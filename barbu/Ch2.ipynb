{
 "cells": [
  {
   "cell_type": "code",
   "execution_count": 1,
   "metadata": {},
   "outputs": [],
   "source": [
    "import numpy as np\n",
    "import matplotlib.pyplot as plt\n",
    "import scipy.stats as st"
   ]
  },
  {
   "cell_type": "markdown",
   "metadata": {},
   "source": [
    "# Prob 1"
   ]
  },
  {
   "cell_type": "markdown",
   "metadata": {},
   "source": [
    "## (i)"
   ]
  },
  {
   "cell_type": "code",
   "execution_count": 2,
   "metadata": {},
   "outputs": [
    {
     "data": {
      "image/png": "[encoded data removed]",
      "text/plain": [
       "<Figure size 432x288 with 1 Axes>"
      ]
     },
     "metadata": {
      "needs_background": "light"
     },
     "output_type": "display_data"
    }
   ],
   "source": [
    "pi = st.multivariate_normal(mean=[2, 2])\n",
    "g = lambda s0: st.multivariate_normal(mean=[0, 0], cov=s0**2)\n",
    "f = lambda x: np.sqrt((x**2).sum(axis=1))\n",
    "\n",
    "n = 100000\n",
    "x1 = pi.rvs(n)\n",
    "fx1 = f(x1)\n",
    "est1 = np.cumsum(fx1) / np.arange(1, n + 1)\n",
    "x2 = g(1).rvs(n)\n",
    "fwx2 = f(x2) * pi.pdf(x2) / g(1).pdf(x2)\n",
    "est2 = np.cumsum(fwx2) / np.arange(1, n + 1)\n",
    "x3 = g(4).rvs(n)\n",
    "fwx3 = f(x3) * pi.pdf(x3) / g(4).pdf(x3)\n",
    "est3 = np.cumsum(fwx3) / np.arange(1, n + 1)\n",
    "\n",
    "plt.loglog(np.arange(1, n + 1), est1, label='est 1')\n",
    "plt.loglog(np.arange(1, n + 1), est2, label='est 2')\n",
    "plt.loglog(np.arange(1, n + 1), est3, label='est 3')\n",
    "plt.legend()\n",
    "plt.show()"
   ]
  },
  {
   "cell_type": "markdown",
   "metadata": {},
   "source": [
    "## (ii)"
   ]
  },
  {
   "cell_type": "code",
   "execution_count": 3,
   "metadata": {},
   "outputs": [
    {
     "name": "stdout",
     "output_type": "stream",
     "text": [
      "0.0012167365762120453\n",
      "0.09340553149895374\n"
     ]
    }
   ],
   "source": [
    "print(1 / (1 + np.var(pi.pdf(x2) / g(1).pdf(x2)) \n",
    "           / (pi.pdf(x2) / g(1).pdf(x2)).mean() ** 2))\n",
    "print(1 / (1 + np.var(pi.pdf(x3) / g(4).pdf(x3)) \n",
    "           / (pi.pdf(x3) / g(4).pdf(x3)).mean() ** 2))"
   ]
  },
  {
   "cell_type": "code",
   "execution_count": null,
   "metadata": {},
   "outputs": [],
   "source": []
  },
  {
   "cell_type": "markdown",
   "metadata": {},
   "source": [
    "# Prob 2"
   ]
  },
  {
   "cell_type": "markdown",
   "metadata": {},
   "source": [
    "## 1"
   ]
  },
  {
   "cell_type": "code",
   "execution_count": null,
   "metadata": {},
   "outputs": [],
   "source": []
  },
  {
   "cell_type": "code",
   "execution_count": null,
   "metadata": {},
   "outputs": [],
   "source": []
  },
  {
   "cell_type": "markdown",
   "metadata": {},
   "source": [
    "## 2"
   ]
  },
  {
   "cell_type": "code",
   "execution_count": null,
   "metadata": {},
   "outputs": [],
   "source": []
  },
  {
   "cell_type": "code",
   "execution_count": null,
   "metadata": {},
   "outputs": [],
   "source": []
  },
  {
   "cell_type": "markdown",
   "metadata": {},
   "source": [
    "## 3"
   ]
  },
  {
   "cell_type": "code",
   "execution_count": null,
   "metadata": {},
   "outputs": [],
   "source": []
  },
  {
   "cell_type": "code",
   "execution_count": null,
   "metadata": {},
   "outputs": [],
   "source": []
  },
  {
   "cell_type": "markdown",
   "metadata": {},
   "source": [
    "## 4"
   ]
  },
  {
   "cell_type": "code",
   "execution_count": null,
   "metadata": {},
   "outputs": [],
   "source": []
  },
  {
   "cell_type": "code",
   "execution_count": null,
   "metadata": {},
   "outputs": [],
   "source": []
  }
 ],
 "metadata": {
  "kernelspec": {
   "display_name": "Python 3",
   "language": "python",
   "name": "python3"
  },
  "language_info": {
   "codemirror_mode": {
    "name": "ipython",
    "version": 3
   },
   "file_extension": ".py",
   "mimetype": "text/x-python",
   "name": "python",
   "nbconvert_exporter": "python",
   "pygments_lexer": "ipython3",
   "version": "3.9.2"
  }
 },
 "nbformat": 4,
 "nbformat_minor": 4
}
