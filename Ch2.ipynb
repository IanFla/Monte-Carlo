{
 "cells": [
  {
   "cell_type": "code",
   "execution_count": null,
   "metadata": {},
   "outputs": [],
   "source": [
    "from matplotlib import pyplot as plt\n",
    "import numpy as np\n",
    "from scipy.stats import uniform,norm,t,binom,expon\n",
    "import seaborn as sb\n",
    "from scipy.optimize import brentq"
   ]
  },
  {
   "cell_type": "markdown",
   "metadata": {},
   "source": [
    "**2.1**"
   ]
  },
  {
   "cell_type": "code",
   "execution_count": null,
   "metadata": {},
   "outputs": [],
   "source": [
    "def est_pi(size=1000):\n",
    "    X=np.array([uniform.rvs(size=size),uniform.rvs(size=size)])\n",
    "    Y=np.sum(X**2,axis=0)<=1\n",
    "    mu=np.mean(Y)\n",
    "    sigma2=mu*(1-mu)\n",
    "    return 4*(mu-1.96*np.sqrt(sigma2/size)),4*(mu+1.96*np.sqrt(sigma2/size))"
   ]
  },
  {
   "cell_type": "code",
   "execution_count": null,
   "metadata": {},
   "outputs": [],
   "source": [
    "N=1000\n",
    "P=0\n",
    "for i in range(N):\n",
    "    a,b=est_pi(1000)\n",
    "    P+=(a<=np.pi<=b)\n",
    "    \n",
    "print(P,'of',N)"
   ]
  },
  {
   "cell_type": "markdown",
   "metadata": {},
   "source": [
    "**2.2**"
   ]
  },
  {
   "cell_type": "code",
   "execution_count": null,
   "metadata": {},
   "outputs": [],
   "source": [
    "alpha=0.5\n",
    "beta=0.5\n",
    "sigma=0.7\n",
    "LIP_real=norm.cdf(norm.ppf(alpha)+np.log(beta)/sigma)\n",
    "print(LIP_real)"
   ]
  },
  {
   "cell_type": "code",
   "execution_count": null,
   "metadata": {},
   "outputs": [],
   "source": [
    "N=10000\n",
    "LIP=np.zeros(N)\n",
    "for i in range(N):\n",
    "    Z=norm.rvs(size=101)\n",
    "    Y=np.exp(0.7*Z)\n",
    "    median=np.median(Y)\n",
    "    LIP[i]=np.mean(Y<=median/2)\n",
    "    \n",
    "print('mean:',np.mean(LIP))\n",
    "print('variance:',np.var(LIP))\n",
    "print('0.75LIP:',np.mean(np.array(LIP)<=0.75*LIP_real))\n",
    "print('1.25LIP:',np.mean(np.array(LIP)<=1.25*LIP_real))"
   ]
  },
  {
   "cell_type": "code",
   "execution_count": null,
   "metadata": {},
   "outputs": [],
   "source": [
    "sb.histplot(LIP,label='LIP values')\n",
    "plt.legend()\n",
    "plt.show()"
   ]
  },
  {
   "cell_type": "markdown",
   "metadata": {},
   "source": [
    "**2.4**"
   ]
  },
  {
   "cell_type": "code",
   "execution_count": null,
   "metadata": {},
   "outputs": [],
   "source": [
    "n=1000\n",
    "J=100\n",
    "Sigma2=np.zeros(J+1)\n",
    "for j in range(J+1):\n",
    "    Delta=2**j\n",
    "    Y=Delta+np.arange(1,n+1)/n\n",
    "    sigma2=np.mean(Y**2)-np.mean(Y)**2\n",
    "    Sigma2[j]=sigma2\n",
    "    \n",
    "index=np.abs(12*Sigma2-1)>1\n",
    "print(np.min(np.arange(J+1)[index]))"
   ]
  },
  {
   "cell_type": "code",
   "execution_count": null,
   "metadata": {},
   "outputs": [],
   "source": [
    "def sigma_iter(Y):\n",
    "    mu=Y[0]\n",
    "    S=0\n",
    "    for i in range(Y.size-1):\n",
    "        delta=Y[i+1]-mu\n",
    "        mu=mu+delta/(i+2)\n",
    "        S=S+(i+1)/(i+2)*delta**2\n",
    "        \n",
    "    return S"
   ]
  },
  {
   "cell_type": "code",
   "execution_count": null,
   "metadata": {},
   "outputs": [],
   "source": [
    "Sigma2=np.zeros(J+1)\n",
    "for j in range(J+1):\n",
    "    Delta=2**j\n",
    "    Y=Delta+np.arange(1,n+1)/n\n",
    "    Sigma2[j]=sigma_iter(Y)\n",
    "    \n",
    "index=np.abs(12*Sigma2/n-1)>1\n",
    "print(np.min(np.arange(J+1)[index]))"
   ]
  },
  {
   "cell_type": "code",
   "execution_count": null,
   "metadata": {},
   "outputs": [],
   "source": [
    "Sigma2=np.zeros(J+1)\n",
    "for j in range(J+1):\n",
    "    Delta=2**j\n",
    "    Y=Delta+np.arange(1,n+1)/n\n",
    "    Sigma2[j]=np.var(Y)\n",
    "    \n",
    "index=np.abs(12*Sigma2-1)>1\n",
    "print(np.min(np.arange(J+1)[index]))"
   ]
  },
  {
   "cell_type": "code",
   "execution_count": null,
   "metadata": {},
   "outputs": [],
   "source": [
    "Sigma2=np.zeros(J+1)\n",
    "for j in range(J+1):\n",
    "    Delta=2**j\n",
    "    Y=np.random.choice(Delta+np.arange(1,n+1)/n,n,replace=False)\n",
    "    Sigma2[j]=(np.sum((Y[1:n]-Y[0:n-1])**2)+(Y[0]-Y[-1])**2)/(2*n)\n",
    "    \n",
    "index=np.abs(12*Sigma2-1)>1\n",
    "print(np.min(np.arange(J+1)[index]))"
   ]
  },
  {
   "cell_type": "markdown",
   "metadata": {},
   "source": [
    "**2.6**"
   ]
  },
  {
   "cell_type": "code",
   "execution_count": null,
   "metadata": {},
   "outputs": [],
   "source": [
    "def ratio(n):\n",
    "    return t.ppf(0.995,df=n/2)/t.ppf(0.995,df=n-1)"
   ]
  },
  {
   "cell_type": "code",
   "execution_count": null,
   "metadata": {},
   "outputs": [],
   "source": [
    "N=10**np.array([1,2,3,4,5,6,7])\n",
    "for n in N:\n",
    "    print(ratio(n))"
   ]
  },
  {
   "cell_type": "markdown",
   "metadata": {},
   "source": [
    "**2.8**"
   ]
  },
  {
   "cell_type": "code",
   "execution_count": null,
   "metadata": {},
   "outputs": [],
   "source": [
    "T=17\n",
    "L=lambda p: 1-binom.cdf(k=T-1,n=10000,p=p)-0.005\n",
    "U=lambda p: binom.cdf(k=T,n=10000,p=p)-0.005\n",
    "pL=brentq(L,0,1)\n",
    "pU=brentq(U,0,1)\n",
    "print(T/10000,'in','['+str(pL)+','+str(pU)+']')"
   ]
  },
  {
   "cell_type": "markdown",
   "metadata": {},
   "source": [
    "**2.14**"
   ]
  },
  {
   "cell_type": "code",
   "execution_count": null,
   "metadata": {},
   "outputs": [],
   "source": [
    "N=10000\n",
    "for t in range(10):\n",
    "    X=expon.rvs(size=N)\n",
    "    Y=uniform.rvs(size=N)\n",
    "    mu=np.cumsum(Y/X)/np.arange(1,N+1)\n",
    "    plt.plot(np.arange(1,N+1),np.log10(mu))\n",
    "\n",
    "plt.show()"
   ]
  },
  {
   "cell_type": "code",
   "execution_count": null,
   "metadata": {},
   "outputs": [],
   "source": [
    "X=expon.rvs(size=N)\n",
    "Y=uniform.rvs(size=N)\n",
    "mu=np.cumsum(Y/X)/np.arange(1,N+1)\n",
    "sigma=np.array([np.std(Y[:i+1]) for i in range(N)])\n",
    "upper=mu+2.58*sigma/np.sqrt(np.arange(1,N+1))\n",
    "lower=mu-2.58*sigma/np.sqrt(np.arange(1,N+1))\n",
    "plt.plot(np.arange(1,N+1),np.log10(mu),label='mu')\n",
    "plt.plot(np.arange(1,N+1),np.log10(upper),label='upper')\n",
    "plt.plot(np.arange(1,N+1),np.log10(lower),label='lower')\n",
    "plt.legend()\n",
    "plt.show()\n",
    "plt.plot(np.arange(1,N+1),2*2.58*sigma)\n",
    "plt.show()"
   ]
  },
  {
   "cell_type": "markdown",
   "metadata": {},
   "source": [
    "**2.15**"
   ]
  },
  {
   "cell_type": "code",
   "execution_count": null,
   "metadata": {},
   "outputs": [],
   "source": [
    "size=10000\n",
    "X=-1*np.ones(size)\n",
    "XX=[X.copy()]\n",
    "O=100000\n",
    "for i in range(O):\n",
    "    Z=norm.rvs(size=np.sum(X<0))\n",
    "    X[X<0]+=Z\n",
    "    XX.append(X.copy())\n"
   ]
  },
  {
   "cell_type": "code",
   "execution_count": null,
   "metadata": {},
   "outputs": [],
   "source": [
    "for k in range(5):\n",
    "    orbits=10**(k+1)\n",
    "    success=3.317+np.sum(XX[orbits]<0)\n",
    "    p=success/(6.634+size)\n",
    "    print(np.mean(XX[orbits]<0))\n",
    "    print('['+str(p-2.58*np.sqrt(p*(1-p)/size))+','+str(p+2.58*np.sqrt(p*(1-p)/size))+']')\n"
   ]
  },
  {
   "cell_type": "code",
   "execution_count": null,
   "metadata": {},
   "outputs": [],
   "source": [
    "for k in range(4):\n",
    "    orbits=10**(k+1)\n",
    "    success0=6.634+np.sum(XX[orbits]<0)\n",
    "    success1=3.317+np.sum(XX[orbits*10]<0)\n",
    "    p=success1/success0\n",
    "    print(np.sum(XX[orbits*10]<0)/np.sum(XX[orbits]<0))\n",
    "    print('['+str(p-2.58*np.sqrt(p*(1-p)/success0))+','+str(p+2.58*np.sqrt(p*(1-p)/success0))+']')\n"
   ]
  }
 ],
 "metadata": {
  "kernelspec": {
   "display_name": "Python 3",
   "language": "python",
   "name": "python3"
  },
  "language_info": {
   "codemirror_mode": {
    "name": "ipython",
    "version": 3
   },
   "file_extension": ".py",
   "mimetype": "text/x-python",
   "name": "python",
   "nbconvert_exporter": "python",
   "pygments_lexer": "ipython3",
   "version": "3.9.1"
  }
 },
 "nbformat": 4,
 "nbformat_minor": 4
}
