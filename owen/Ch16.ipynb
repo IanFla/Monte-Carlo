{
 "cells": [
  {
   "cell_type": "code",
   "execution_count": 1,
   "metadata": {},
   "outputs": [],
   "source": [
    "from matplotlib import pyplot as plt\n",
    "import seaborn as sb\n",
    "import numpy as np\n",
    "from scipy.stats import uniform,norm,t,binom,expon,chi2,gamma,poisson,beta,dirichlet\n",
    "from scipy.stats import multivariate_normal as multi_norm\n",
    "from sklearn.linear_model import LinearRegression as Linear\n",
    "from scipy.optimize import brentq,minimize\n",
    "from scipy.special import perm,comb\n",
    "import time\n",
    "import pandas as pd\n",
    "import qmcpy as qp\n",
    "\n",
    "import warnings\n",
    "warnings.filterwarnings(\"ignore\")"
   ]
  },
  {
   "cell_type": "markdown",
   "metadata": {},
   "source": [
    "**16.1**"
   ]
  },
  {
   "cell_type": "code",
   "execution_count": 2,
   "metadata": {},
   "outputs": [
    {
     "name": "stdout",
     "output_type": "stream",
     "text": [
      "1021\n",
      "[0.499 0.498 0.498 0.498 0.497 0.496 0.496 0.496 0.496 0.495]\n",
      "[0.499 0.499 0.5   0.499 0.499 0.5   0.5   0.5   0.5   0.499]\n",
      "2039\n",
      "[0.499 0.499 0.499 0.499 0.498 0.499 0.498 0.497 0.497 0.496]\n",
      "[0.499 0.5   0.5   0.5   0.5   0.5   0.5   0.5   0.499 0.499]\n",
      "4093\n",
      "[0.5   0.499 0.499 0.499 0.499 0.499 0.499 0.498 0.499 0.499]\n",
      "[0.5 0.5 0.5 0.5 0.5 0.5 0.5 0.5 0.5 0.5]\n"
     ]
    }
   ],
   "source": [
    "d=10\n",
    "n=1021\n",
    "print(n)\n",
    "halton=qp.Halton(d,randomize=False)\n",
    "samples=halton.gen_samples(n)\n",
    "print(samples.mean(axis=0))\n",
    "lattice=qp.Lattice(d,randomize=False)\n",
    "samples=lattice.gen_samples(n)\n",
    "print(samples.mean(axis=0))\n",
    "\n",
    "n=2039\n",
    "print(n)\n",
    "halton=qp.Halton(d,randomize=False)\n",
    "samples=halton.gen_samples(n)\n",
    "print(samples.mean(axis=0))\n",
    "lattice=qp.Lattice(d,randomize=False)\n",
    "samples=lattice.gen_samples(n)\n",
    "print(samples.mean(axis=0))\n",
    "\n",
    "n=4093\n",
    "print(n)\n",
    "halton=qp.Halton(d,randomize=False)\n",
    "samples=halton.gen_samples(n)\n",
    "print(samples.mean(axis=0))\n",
    "lattice=qp.Lattice(d,randomize=False)\n",
    "samples=lattice.gen_samples(n)\n",
    "print(samples.mean(axis=0))"
   ]
  },
  {
   "cell_type": "markdown",
   "metadata": {},
   "source": [
    "**16.5**"
   ]
  },
  {
   "cell_type": "code",
   "execution_count": 3,
   "metadata": {},
   "outputs": [],
   "source": [
    "def wing(X):\n",
    "    tmp1=0.036*(X[:,0]**0.758)*(X[:,1]**0.0035)\n",
    "    tmp2=(X[:,2]/np.cos(X[:,3])**2)**0.6\n",
    "    tmp3=(X[:,4]**0.006)*(X[:,5]**0.04)\n",
    "    tmp4=((100*X[:,6])/np.cos(X[:,3]))**(-0.3)\n",
    "    tmp5=(X[:,7]*X[:,8])**0.49\n",
    "    return tmp1*tmp2*tmp3*tmp4*tmp5+X[:,0]*X[:,9]\n",
    "\n",
    "def main(discrete):\n",
    "    lower_bound=[150,220,6,-np.pi/18,16,0.5,0.08,2.5,1700,0.025]\n",
    "    upper_bound=[200,300,10,np.pi/18,45,1,0.18,6,2500,0.08]\n",
    "    uniform=qp.Uniform(discrete,lower_bound,upper_bound)\n",
    "    integrand=qp.CustomFun(uniform,wing)\n",
    "    return integrand"
   ]
  },
  {
   "cell_type": "code",
   "execution_count": 4,
   "metadata": {},
   "outputs": [
    {
     "name": "stdout",
     "output_type": "stream",
     "text": [
      "268.07647519527757\n"
     ]
    }
   ],
   "source": [
    "halton=qp.Halton(10,randomize=True)\n",
    "integrand=main(halton)\n",
    "\n",
    "criterion=qp.CubQMCCLT(integrand,abs_tol=1e-2)\n",
    "solution,data=criterion.integrate()\n",
    "print(solution)"
   ]
  },
  {
   "cell_type": "code",
   "execution_count": 5,
   "metadata": {},
   "outputs": [
    {
     "name": "stdout",
     "output_type": "stream",
     "text": [
      "268.0763596269545\n",
      "268.0753094474329\n"
     ]
    }
   ],
   "source": [
    "sobol=qp.Sobol(10,randomize=True)\n",
    "integrand=main(sobol)\n",
    "\n",
    "criterion=qp.CubQMCCLT(integrand,abs_tol=1e-2)\n",
    "solution,data=criterion.integrate()\n",
    "print(solution)\n",
    "\n",
    "criterion=qp.CubQMCSobolG(integrand,abs_tol=1e-2)\n",
    "solution,data=criterion.integrate()\n",
    "print(solution)"
   ]
  },
  {
   "cell_type": "code",
   "execution_count": 6,
   "metadata": {},
   "outputs": [
    {
     "name": "stdout",
     "output_type": "stream",
     "text": [
      "268.0782160847078\n",
      "268.0752338466738\n"
     ]
    }
   ],
   "source": [
    "lattice=qp.Lattice(10,randomize=True)\n",
    "integrand=main(lattice)\n",
    "\n",
    "criterion=qp.CubQMCCLT(integrand,abs_tol=1e-2)\n",
    "solution,data=criterion.integrate()\n",
    "print(solution)\n",
    "\n",
    "criterion=qp.CubQMCLatticeG(integrand,abs_tol=1e-2)\n",
    "solution,data=criterion.integrate()\n",
    "print(solution)"
   ]
  },
  {
   "cell_type": "code",
   "execution_count": 7,
   "metadata": {},
   "outputs": [],
   "source": [
    "def draw():\n",
    "    samples=ld.gen_samples(n)[:,select]\n",
    "    fig,ax=plt.subplots(1,2,figsize=(10,5))\n",
    "    ax[0].scatter(samples[:,0],samples[:,1])\n",
    "    ax[0].set_xlabel('D-'+str(select[0]+1))\n",
    "    ax[0].set_ylabel('D-'+str(select[1]+1))\n",
    "    ax[1].scatter(samples[:,2],samples[:,3])\n",
    "    ax[1].set_xlabel('D-'+str(select[2]+1))\n",
    "    ax[1].set_ylabel('D-'+str(select[3]+1))\n",
    "    plt.show()"
   ]
  },
  {
   "cell_type": "code",
   "execution_count": 8,
   "metadata": {},
   "outputs": [
    {
     "data": {
      "image/png": "[encoded data removed]",
      "text/plain": [
       "<Figure size 720x360 with 2 Axes>"
      ]
     },
     "metadata": {
      "needs_background": "light"
     },
     "output_type": "display_data"
    },
    {
     "data": {
      "image/png": "[encoded data removed]",
      "text/plain": [
       "<Figure size 720x360 with 2 Axes>"
      ]
     },
     "metadata": {
      "needs_background": "light"
     },
     "output_type": "display_data"
    }
   ],
   "source": [
    "d=10\n",
    "n=200\n",
    "select=np.append(np.random.choice(np.arange(10),2,replace=False),\\\n",
    "                 np.random.choice(np.arange(d),2,replace=False))\n",
    "\n",
    "ld=qp.Korobov(d,generator=[1,2,3,5,7,11,13,17,19,23],randomize=False)\n",
    "draw()\n",
    "ld=qp.Korobov(d,generator=[1,2,3,5,7,11,13,17,19,23],randomize=True)\n",
    "draw()"
   ]
  },
  {
   "cell_type": "code",
   "execution_count": null,
   "metadata": {},
   "outputs": [],
   "source": []
  },
  {
   "cell_type": "code",
   "execution_count": null,
   "metadata": {},
   "outputs": [],
   "source": []
  }
 ],
 "metadata": {
  "kernelspec": {
   "display_name": "Python 3",
   "language": "python",
   "name": "python3"
  },
  "language_info": {
   "codemirror_mode": {
    "name": "ipython",
    "version": 3
   },
   "file_extension": ".py",
   "mimetype": "text/x-python",
   "name": "python",
   "nbconvert_exporter": "python",
   "pygments_lexer": "ipython3",
   "version": "3.9.2"
  }
 },
 "nbformat": 4,
 "nbformat_minor": 4
}
