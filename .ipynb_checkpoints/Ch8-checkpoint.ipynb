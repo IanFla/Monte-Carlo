{
 "cells": [
  {
   "cell_type": "code",
   "execution_count": 1,
   "metadata": {},
   "outputs": [],
   "source": [
    "from matplotlib import pyplot as plt\n",
    "import seaborn as sb\n",
    "import numpy as np\n",
    "from scipy.stats import uniform,norm,t,binom,expon,chi2,gamma,poisson,beta,dirichlet\n",
    "from scipy.stats import multivariate_normal as multi_norm\n",
    "from scipy.optimize import brentq\n",
    "from scipy.special import perm,comb\n",
    "import time\n",
    "import pandas as pd"
   ]
  },
  {
   "cell_type": "markdown",
   "metadata": {},
   "source": [
    "**8.1**"
   ]
  },
  {
   "cell_type": "code",
   "execution_count": 2,
   "metadata": {},
   "outputs": [],
   "source": [
    "def increasing(theta):\n",
    "    f=lambda x: x**theta\n",
    "    X=uniform.rvs(size=10000)\n",
    "    print(np.corrcoef(f(X),f(1-X))[0,1])"
   ]
  },
  {
   "cell_type": "code",
   "execution_count": 3,
   "metadata": {},
   "outputs": [
    {
     "name": "stdout",
     "output_type": "stream",
     "text": [
      "-1.0\n",
      "-0.8752852700259668\n",
      "-0.5392893805379118\n",
      "-0.2583860153074437\n",
      "-0.12855205445989237\n",
      "-0.06445216507538132\n",
      "-0.029215403848095706\n",
      "-0.0160036282822049\n"
     ]
    }
   ],
   "source": [
    "increasing(1)\n",
    "increasing(2)\n",
    "increasing(4)\n",
    "increasing(8)\n",
    "increasing(16)\n",
    "increasing(32)\n",
    "increasing(64)\n",
    "increasing(128)"
   ]
  },
  {
   "cell_type": "markdown",
   "metadata": {},
   "source": [
    "**8.4**"
   ]
  },
  {
   "cell_type": "code",
   "execution_count": 4,
   "metadata": {},
   "outputs": [
    {
     "name": "stdout",
     "output_type": "stream",
     "text": [
      "48.96159936000001 < 49.95981774999999\n",
      "1.0127 0.010012214475829015\n",
      "0.9937 0.009868896626269828\n"
     ]
    }
   ],
   "source": [
    "f=lambda x: 100*(x>0.9)*(x<=0.91)\n",
    "size=1000000\n",
    "X=uniform.rvs(size=size)\n",
    "fe=lambda x: (f(x)+f(1-x))/2\n",
    "fo=lambda x: (f(x)-f(1-x))/2\n",
    "print(np.var(fe(X)),'<',np.var(fo(X)))\n",
    "print(np.mean(f(X)),np.std(f(X))/np.sqrt(size))\n",
    "X=uniform.rvs(size=int(size/2))\n",
    "fx=(f(X)+f(1-X))/2\n",
    "print(np.mean(fx),np.std(fx)/np.sqrt(size/2))"
   ]
  },
  {
   "cell_type": "code",
   "execution_count": 5,
   "metadata": {},
   "outputs": [
    {
     "name": "stdout",
     "output_type": "stream",
     "text": [
      "898.3115547900003 > 0.0\n",
      "9.9789 0.029971846035738277\n",
      "10.0472 0.04251526248678232\n"
     ]
    }
   ],
   "source": [
    "f=lambda x: 100*(x>0.45)*(x<=0.55)\n",
    "size=1000000\n",
    "X=uniform.rvs(size=size)\n",
    "fe=lambda x: (f(x)+f(1-x))/2\n",
    "fo=lambda x: (f(x)-f(1-x))/2\n",
    "print(np.var(fe(X)),'>',np.var(fo(X)))\n",
    "print(np.mean(f(X)),np.std(f(X))/np.sqrt(size))\n",
    "X=uniform.rvs(size=int(size/2))\n",
    "fx=(f(X)+f(1-X))/2\n",
    "print(np.mean(fx),np.std(fx)/np.sqrt(size/2))"
   ]
  },
  {
   "cell_type": "code",
   "execution_count": null,
   "metadata": {},
   "outputs": [],
   "source": []
  },
  {
   "cell_type": "code",
   "execution_count": null,
   "metadata": {},
   "outputs": [],
   "source": []
  },
  {
   "cell_type": "code",
   "execution_count": null,
   "metadata": {},
   "outputs": [],
   "source": []
  }
 ],
 "metadata": {
  "kernelspec": {
   "display_name": "Python 3",
   "language": "python",
   "name": "python3"
  },
  "language_info": {
   "codemirror_mode": {
    "name": "ipython",
    "version": 3
   },
   "file_extension": ".py",
   "mimetype": "text/x-python",
   "name": "python",
   "nbconvert_exporter": "python",
   "pygments_lexer": "ipython3",
   "version": "3.9.1"
  }
 },
 "nbformat": 4,
 "nbformat_minor": 4
}
