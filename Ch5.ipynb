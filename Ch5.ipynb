{
 "cells": [
  {
   "cell_type": "code",
   "execution_count": null,
   "metadata": {},
   "outputs": [],
   "source": [
    "from matplotlib import pyplot as plt\n",
    "import seaborn as sb\n",
    "import numpy as np\n",
    "from scipy.stats import uniform,norm,t,binom,expon,chi2,gamma,poisson,beta,dirichlet\n",
    "from scipy.stats import multivariate_normal as multi_norm\n",
    "from scipy.optimize import brentq\n",
    "from scipy.special import perm,comb\n",
    "import time"
   ]
  },
  {
   "cell_type": "markdown",
   "metadata": {},
   "source": [
    "**5.5**"
   ]
  },
  {
   "cell_type": "code",
   "execution_count": null,
   "metadata": {},
   "outputs": [],
   "source": [
    "def mult(m,p):\n",
    "    start=time.time()\n",
    "    d=p.size\n",
    "    l=m\n",
    "    S=1\n",
    "    X=np.zeros(d)\n",
    "    for j in range(d):\n",
    "        X[j]=binom.rvs(n=int(l),p=np.min([p[j]/S,1]))\n",
    "        l=l-X[j]\n",
    "        S=S-p[j]\n",
    "        if l==0:\n",
    "            break\n",
    "        \n",
    "    end=time.time()\n",
    "    print(end-start)\n",
    "    return X"
   ]
  },
  {
   "cell_type": "code",
   "execution_count": null,
   "metadata": {},
   "outputs": [],
   "source": [
    "m=100\n",
    "d=100000\n",
    "p=1/(np.arange(d)+1)**2\n",
    "p1=p/np.sum(p)\n",
    "p2=np.flip(p1)\n",
    "\n",
    "X1=mult(m,p1)\n",
    "X2=mult(m,p2)"
   ]
  },
  {
   "cell_type": "markdown",
   "metadata": {},
   "source": [
    "**5.8**"
   ]
  },
  {
   "cell_type": "code",
   "execution_count": null,
   "metadata": {},
   "outputs": [],
   "source": [
    "alpha=np.ones(3)\n",
    "Z=np.array([[0,0],[0,4],[4,3]])\n",
    "X=dirichlet.rvs(alpha,size=300)\n",
    "points=X.dot(Z)\n",
    "\n",
    "plt.plot(np.append(Z[:,0],Z[0,0]),np.append(Z[:,1],Z[0,1]),c='r')\n",
    "plt.scatter(points[:,0],points[:,1],c='g')\n",
    "plt.axis('scaled')\n",
    "plt.show()"
   ]
  },
  {
   "cell_type": "markdown",
   "metadata": {},
   "source": [
    "**5.9**"
   ]
  },
  {
   "cell_type": "code",
   "execution_count": null,
   "metadata": {},
   "outputs": [],
   "source": [
    "d=2\n",
    "size=300\n",
    "R=beta.rvs(size=size,a=d,b=1)\n",
    "Z=multi_norm.rvs(size=size,mean=np.zeros(d)).T\n",
    "X=R*Z/np.linalg.norm(Z,axis=0)\n",
    "mu=np.array([1,2])\n",
    "Sigma=np.array([[4,1.5],[1.5,1]])\n",
    "V,P=np.linalg.eig(Sigma)\n",
    "C=P.dot(np.diag(np.sqrt(V))).dot(P.T)\n",
    "Y=mu+C.dot(X).T\n",
    "\n",
    "plt.scatter(Y[:,0],Y[:,1],c='g')\n",
    "plt.axis('scaled')\n",
    "plt.show()"
   ]
  },
  {
   "cell_type": "markdown",
   "metadata": {},
   "source": [
    "**5.10**"
   ]
  },
  {
   "cell_type": "code",
   "execution_count": null,
   "metadata": {},
   "outputs": [],
   "source": [
    "T=np.linspace(1.5*np.pi,4.5*np.pi,20)\n",
    "X=T*np.cos(T)\n",
    "Z=T*np.sin(T)\n",
    "plt.scatter(X,Z,c='g')\n",
    "plt.axis('scaled')\n",
    "plt.show()"
   ]
  },
  {
   "cell_type": "code",
   "execution_count": null,
   "metadata": {},
   "outputs": [],
   "source": [
    "F0=lambda t: 0.5*np.sqrt(t**2+1)*t+np.arcsinh(t)\n",
    "F=lambda t: (F0(t)-F0(1.5*np.pi))/(F0(4.5*np.pi)-F0(1.5*np.pi))\n",
    "\n",
    "plt.plot(T,F(T))\n",
    "plt.show()\n",
    "\n",
    "U=np.linspace(0,1,20)\n",
    "T=np.array([brentq(lambda t: F(t)-u,1.5*np.pi,4.5*np.pi) for u in U])\n",
    "X=T*np.cos(T)\n",
    "Z=T*np.sin(T)\n",
    "plt.scatter(X,Z,c='g')\n",
    "plt.axis('scaled')\n",
    "plt.show()"
   ]
  },
  {
   "cell_type": "code",
   "execution_count": null,
   "metadata": {},
   "outputs": [],
   "source": [
    "U=uniform.rvs(size=10000)\n",
    "T=np.array([brentq(lambda t: F(t)-u,1.5*np.pi,4.5*np.pi) for u in U])\n",
    "X=T*np.cos(T)\n",
    "Z=T*np.sin(T)\n",
    "print(np.mean(X),np.mean(X)-2.58*np.std(X)/100,np.mean(X)+2.58*np.std(X)/100)\n",
    "print(np.mean(Z),np.mean(Z)-2.58*np.std(Z)/100,np.mean(Z)+2.58*np.std(Z)/100)"
   ]
  },
  {
   "cell_type": "code",
   "execution_count": null,
   "metadata": {},
   "outputs": [],
   "source": [
    "p=np.mean(X<0)\n",
    "print(p,p-2.58*np.sqrt(p*(1-p))/100,p+2.58*np.sqrt(p*(1-p))/100)"
   ]
  },
  {
   "cell_type": "markdown",
   "metadata": {},
   "source": [
    "**5.11**"
   ]
  },
  {
   "cell_type": "code",
   "execution_count": null,
   "metadata": {},
   "outputs": [],
   "source": [
    "U=uniform.rvs(size=10000)\n",
    "X1=expon.ppf(U)\n",
    "X2=uniform.ppf(U)\n",
    "print(np.corrcoef([X1,X2]))\n",
    "X2=uniform.ppf(1-U)\n",
    "print(np.corrcoef([X1,X2]))"
   ]
  },
  {
   "cell_type": "markdown",
   "metadata": {},
   "source": [
    "**5.12**"
   ]
  },
  {
   "cell_type": "code",
   "execution_count": null,
   "metadata": {},
   "outputs": [],
   "source": [
    "def divide(G,alpha):\n",
    "    N=len(alpha)\n",
    "    if N==1:\n",
    "        return G\n",
    "    \n",
    "    n=int(N/2)\n",
    "    b=beta.rvs(np.sum(alpha[:n]),np.sum(alpha[n:]))\n",
    "    return np.append(divide(b*G,alpha[:n]),divide((1-b)*G,alpha[n:]))\n",
    "\n",
    "def Gam(alpha):\n",
    "    G=gamma.rvs(a=np.sum(alpha))\n",
    "    return divide(G,alpha)"
   ]
  },
  {
   "cell_type": "code",
   "execution_count": null,
   "metadata": {},
   "outputs": [],
   "source": [
    "alpha=[1,10,100]\n",
    "G=[]\n",
    "for i in range(10000):\n",
    "    G.append(Gam(alpha))\n",
    "\n",
    "G=np.array(G)"
   ]
  },
  {
   "cell_type": "code",
   "execution_count": null,
   "metadata": {},
   "outputs": [],
   "source": [
    "print(np.mean(G,axis=0))\n",
    "print(np.var(G,axis=0))\n",
    "print(np.corrcoef(G.T))"
   ]
  },
  {
   "cell_type": "markdown",
   "metadata": {},
   "source": [
    "**5.13**"
   ]
  },
  {
   "cell_type": "code",
   "execution_count": null,
   "metadata": {},
   "outputs": [],
   "source": [
    "size=10000\n",
    "lambda1=lambda2=1\n",
    "lambda3=10\n",
    "Z1=expon.rvs(size=size,scale=1/lambda1)\n",
    "Z2=expon.rvs(size=size,scale=1/lambda2)\n",
    "Z3=expon.rvs(size=size,scale=1/lambda3)\n",
    "X1=np.minimum(Z1,Z3)\n",
    "X2=np.minimum(Z2,Z3)\n",
    "U1=expon.cdf(x=X1,scale=1/lambda1)\n",
    "U2=expon.cdf(x=X2,scale=1/lambda2)\n",
    "Y1=norm.ppf(U1)\n",
    "Y2=norm.ppf(U2)\n",
    "\n",
    "plt.scatter(X1,X2)\n",
    "plt.axis('scaled')\n",
    "plt.show()\n",
    "\n",
    "plt.scatter(U1,U2)\n",
    "plt.axis('scaled')\n",
    "plt.show()\n",
    "\n",
    "plt.scatter(Y1,Y2)\n",
    "plt.axis('scaled')\n",
    "plt.show()\n",
    "\n",
    "print(np.corrcoef(Y1,Y2))"
   ]
  },
  {
   "cell_type": "code",
   "execution_count": null,
   "metadata": {},
   "outputs": [],
   "source": [
    "Y1_sorted=np.sort(Y1)\n",
    "Y2_sorted=np.sort(Y2)\n",
    "X=norm.ppf((np.arange(size)+0.5)/size)\n",
    "plt.plot(X,Y1_sorted,c='b')\n",
    "plt.plot(X,Y2_sorted,c='r')\n",
    "plt.axis('scaled')\n",
    "plt.show()"
   ]
  },
  {
   "cell_type": "markdown",
   "metadata": {},
   "source": [
    "**5.15**"
   ]
  },
  {
   "cell_type": "code",
   "execution_count": null,
   "metadata": {},
   "outputs": [],
   "source": [
    "def different(N,n,m):\n",
    "    return (perm(N,m)/(N**m))**n\n",
    "\n",
    "# print(different(2**32,100000,256))"
   ]
  }
 ],
 "metadata": {
  "kernelspec": {
   "display_name": "Python 3",
   "language": "python",
   "name": "python3"
  },
  "language_info": {
   "codemirror_mode": {
    "name": "ipython",
    "version": 3
   },
   "file_extension": ".py",
   "mimetype": "text/x-python",
   "name": "python",
   "nbconvert_exporter": "python",
   "pygments_lexer": "ipython3",
   "version": "3.9.1"
  }
 },
 "nbformat": 4,
 "nbformat_minor": 4
}
