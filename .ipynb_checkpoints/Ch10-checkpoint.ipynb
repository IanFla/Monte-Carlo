{
 "cells": [
  {
   "cell_type": "code",
   "execution_count": 1,
   "metadata": {},
   "outputs": [],
   "source": [
    "from matplotlib import pyplot as plt\n",
    "import seaborn as sb\n",
    "import numpy as np\n",
    "from scipy.stats import uniform,norm,t,binom,expon,chi2,gamma,poisson,beta,dirichlet\n",
    "from scipy.stats import multivariate_normal as multi_norm\n",
    "from sklearn.linear_model import LinearRegression as Linear\n",
    "from scipy.optimize import brentq\n",
    "from scipy.special import perm,comb\n",
    "import time\n",
    "import pandas as pd"
   ]
  },
  {
   "cell_type": "markdown",
   "metadata": {},
   "source": [
    "**10.3**"
   ]
  },
  {
   "cell_type": "code",
   "execution_count": 2,
   "metadata": {},
   "outputs": [],
   "source": [
    "m=32\n",
    "n=2*(m**2)\n",
    "grid=np.meshgrid(np.linspace(0,1-1/m,m),np.linspace(0,1-1/m,m))\n",
    "def f(S):\n",
    "    x1=S[0]\n",
    "    x2=S[1]\n",
    "    return x1**2*np.exp(x1*x2)\n",
    "    \n",
    "def estimate_gs(rep):\n",
    "    mu=np.zeros(rep)\n",
    "    Var1=np.zeros(rep)\n",
    "    Var2=np.zeros(rep)\n",
    "    for i in range(rep):\n",
    "        U1=uniform.rvs(size=n).reshape([2,m,m])/m\n",
    "        S1=(grid+U1).reshape(2,-1)\n",
    "        F1=f(S1)\n",
    "        mu1=np.mean(F1)\n",
    "        U2=uniform.rvs(size=n).reshape([2,m,m])/m\n",
    "        S2=(grid+U2).reshape(2,-1)\n",
    "        F2=f(S2)\n",
    "        mu2=np.mean(F2)\n",
    "        mu[i]=(mu1+mu2)/2\n",
    "        Var1[i]=np.sum((F1-F2)**2)/(4*m**4)\n",
    "        Var2[i]=(mu1-mu2)**2/4\n",
    "        \n",
    "    return mu,Var1,Var2\n",
    "\n",
    "mu,Var1,Var2=estimate_gs(10000)"
   ]
  },
  {
   "cell_type": "code",
   "execution_count": 3,
   "metadata": {},
   "outputs": [
    {
     "data": {
      "image/png": "[encoded data removed]",
      "text/plain": [
       "<Figure size 432x288 with 1 Axes>"
      ]
     },
     "metadata": {
      "needs_background": "light"
     },
     "output_type": "display_data"
    },
    {
     "name": "stdout",
     "output_type": "stream",
     "text": [
      "variance: 2.1815970576984332e-07\n"
     ]
    }
   ],
   "source": [
    "sb.histplot(mu)\n",
    "plt.show()\n",
    "print('variance:',np.var(mu))"
   ]
  },
  {
   "cell_type": "code",
   "execution_count": 4,
   "metadata": {},
   "outputs": [
    {
     "data": {
      "image/png": "[encoded data removed]",
      "text/plain": [
       "<Figure size 432x288 with 1 Axes>"
      ]
     },
     "metadata": {
      "needs_background": "light"
     },
     "output_type": "display_data"
    },
    {
     "name": "stdout",
     "output_type": "stream",
     "text": [
      "Var1: 2.158573811020662e-07 1.594235372313874e-08\n",
      "Var2: 2.1320249633850902e-07 2.9704551194944685e-07\n",
      "347.1691357564934\n"
     ]
    }
   ],
   "source": [
    "sb.histplot(Var1,color='r')\n",
    "sb.histplot(Var2,color='g')\n",
    "plt.show()\n",
    "print('Var1:',np.mean(Var1),np.std(Var1))\n",
    "print('Var2:',np.mean(Var2),np.std(Var2))\n",
    "print(np.var(Var2)/np.var(Var1))"
   ]
  },
  {
   "cell_type": "markdown",
   "metadata": {},
   "source": [
    "**10.4**"
   ]
  },
  {
   "cell_type": "code",
   "execution_count": 5,
   "metadata": {},
   "outputs": [
    {
     "name": "stdout",
     "output_type": "stream",
     "text": [
      "0.4843065282480627 0.0635477565583706\n"
     ]
    }
   ],
   "source": [
    "alpha=1/2\n",
    "def f(X):\n",
    "    J=np.arange(1,1001)*1.0\n",
    "    g=1+(X**alpha/J**2).sum(axis=1)\n",
    "    return 1/g\n",
    "\n",
    "n=1000\n",
    "X=uniform.rvs(size=n*1000).reshape([n,1000])\n",
    "FX=f(X)\n",
    "print(np.mean(FX),np.std(FX))"
   ]
  },
  {
   "cell_type": "code",
   "execution_count": 6,
   "metadata": {},
   "outputs": [
    {
     "name": "stdout",
     "output_type": "stream",
     "text": [
      "0.48435410977775717 0.0004087257330432826\n"
     ]
    }
   ],
   "source": [
    "n=100\n",
    "r=100\n",
    "mu=np.zeros(r)\n",
    "for i in range(r):\n",
    "    X=np.zeros([n,1000])\n",
    "    for d in range(1000):\n",
    "        X[:,d]=(np.random.choice(np.arange(n),size=n,replace=False)+uniform.rvs(size=n))/n\n",
    "    \n",
    "    mu[i]=np.mean(f(X))\n",
    "    \n",
    "print(np.mean(mu),np.std(mu))"
   ]
  },
  {
   "cell_type": "markdown",
   "metadata": {},
   "source": [
    "**10.5**"
   ]
  },
  {
   "cell_type": "code",
   "execution_count": 7,
   "metadata": {},
   "outputs": [],
   "source": [
    "def f(X):\n",
    "    return (-1)**(X>0.5).sum(axis=1)"
   ]
  },
  {
   "cell_type": "code",
   "execution_count": 12,
   "metadata": {},
   "outputs": [
    {
     "data": {
      "image/png": "[encoded data removed]",
      "text/plain": [
       "<Figure size 432x288 with 1 Axes>"
      ]
     },
     "metadata": {
      "needs_background": "light"
     },
     "output_type": "display_data"
    },
    {
     "name": "stdout",
     "output_type": "stream",
     "text": [
      "0.03162277660168379 0.03004154456748188\n"
     ]
    }
   ],
   "source": [
    "n=1000\n",
    "r=100\n",
    "mu=np.zeros(r)\n",
    "for i in range(r):\n",
    "    X=np.zeros([n,1000])\n",
    "    for d in range(1000):\n",
    "        X[:,d]=(np.random.choice(np.arange(n),size=n,replace=False)+uniform.rvs(size=n))/n\n",
    "    \n",
    "    mu[i]=np.mean(f(X))\n",
    "    \n",
    "sb.histplot(mu)\n",
    "plt.show()\n",
    "print(1/np.sqrt(n),np.std(mu))"
   ]
  },
  {
   "cell_type": "markdown",
   "metadata": {},
   "source": [
    "**10.7**"
   ]
  },
  {
   "cell_type": "code",
   "execution_count": null,
   "metadata": {},
   "outputs": [],
   "source": []
  },
  {
   "cell_type": "code",
   "execution_count": null,
   "metadata": {},
   "outputs": [],
   "source": []
  },
  {
   "cell_type": "code",
   "execution_count": null,
   "metadata": {},
   "outputs": [],
   "source": []
  },
  {
   "cell_type": "code",
   "execution_count": null,
   "metadata": {},
   "outputs": [],
   "source": []
  },
  {
   "cell_type": "code",
   "execution_count": null,
   "metadata": {},
   "outputs": [],
   "source": []
  }
 ],
 "metadata": {
  "kernelspec": {
   "display_name": "Python 3",
   "language": "python",
   "name": "python3"
  },
  "language_info": {
   "codemirror_mode": {
    "name": "ipython",
    "version": 3
   },
   "file_extension": ".py",
   "mimetype": "text/x-python",
   "name": "python",
   "nbconvert_exporter": "python",
   "pygments_lexer": "ipython3",
   "version": "3.9.1"
  }
 },
 "nbformat": 4,
 "nbformat_minor": 4
}
