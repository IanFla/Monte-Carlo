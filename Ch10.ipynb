{
 "cells": [
  {
   "cell_type": "code",
   "execution_count": 1,
   "metadata": {},
   "outputs": [],
   "source": [
    "from matplotlib import pyplot as plt\n",
    "import seaborn as sb\n",
    "import numpy as np\n",
    "from scipy.stats import uniform,norm,t,binom,expon,chi2,gamma,poisson,beta,dirichlet\n",
    "from scipy.stats import multivariate_normal as multi_norm\n",
    "from sklearn.linear_model import LinearRegression as Linear\n",
    "from scipy.optimize import brentq\n",
    "from scipy.special import perm,comb\n",
    "import time\n",
    "import pandas as pd"
   ]
  },
  {
   "cell_type": "markdown",
   "metadata": {},
   "source": [
    "**10.3**"
   ]
  },
  {
   "cell_type": "code",
   "execution_count": 2,
   "metadata": {},
   "outputs": [],
   "source": [
    "m=32\n",
    "n=2*(m**2)\n",
    "grid=np.meshgrid(np.linspace(0,1-1/m,m),np.linspace(0,1-1/m,m))\n",
    "def f(S):\n",
    "    x1=S[0]\n",
    "    x2=S[1]\n",
    "    return x1**2*np.exp(x1*x2)\n",
    "    \n",
    "def estimate_gs(rep):\n",
    "    mu=np.zeros(rep)\n",
    "    Var1=np.zeros(rep)\n",
    "    Var2=np.zeros(rep)\n",
    "    for i in range(rep):\n",
    "        U1=uniform.rvs(size=n).reshape([2,m,m])/m\n",
    "        S1=(grid+U1).reshape(2,-1)\n",
    "        F1=f(S1)\n",
    "        mu1=np.mean(F1)\n",
    "        U2=uniform.rvs(size=n).reshape([2,m,m])/m\n",
    "        S2=(grid+U2).reshape(2,-1)\n",
    "        F2=f(S2)\n",
    "        mu2=np.mean(F2)\n",
    "        mu[i]=(mu1+mu2)/2\n",
    "        Var1[i]=np.sum((F1-F2)**2)/(4*m**4)\n",
    "        Var2[i]=(mu1-mu2)**2/4\n",
    "        \n",
    "    return mu,Var1,Var2\n",
    "\n",
    "mu,Var1,Var2=estimate_gs(10000)"
   ]
  },
  {
   "cell_type": "code",
   "execution_count": 3,
   "metadata": {},
   "outputs": [
    {
     "data": {
      "image/png": "[encoded data removed]",
      "text/plain": [
       "<Figure size 432x288 with 1 Axes>"
      ]
     },
     "metadata": {
      "needs_background": "light"
     },
     "output_type": "display_data"
    },
    {
     "name": "stdout",
     "output_type": "stream",
     "text": [
      "variance: 2.1426421722094014e-07\n"
     ]
    }
   ],
   "source": [
    "sb.histplot(mu)\n",
    "plt.show()\n",
    "print('variance:',np.var(mu))"
   ]
  },
  {
   "cell_type": "code",
   "execution_count": 4,
   "metadata": {},
   "outputs": [
    {
     "data": {
      "image/png": "[encoded data removed]",
      "text/plain": [
       "<Figure size 432x288 with 1 Axes>"
      ]
     },
     "metadata": {
      "needs_background": "light"
     },
     "output_type": "display_data"
    },
    {
     "name": "stdout",
     "output_type": "stream",
     "text": [
      "Var1: 2.1584538081678017e-07 1.5646570384320216e-08\n",
      "Var2: 2.213054602036052e-07 3.0926148440668396e-07\n",
      "390.6729626773172\n"
     ]
    }
   ],
   "source": [
    "sb.histplot(Var1,color='r')\n",
    "sb.histplot(Var2,color='g')\n",
    "plt.show()\n",
    "print('Var1:',np.mean(Var1),np.std(Var1))\n",
    "print('Var2:',np.mean(Var2),np.std(Var2))\n",
    "print(np.var(Var2)/np.var(Var1))"
   ]
  },
  {
   "cell_type": "markdown",
   "metadata": {},
   "source": [
    "**10.4**"
   ]
  },
  {
   "cell_type": "code",
   "execution_count": 5,
   "metadata": {},
   "outputs": [
    {
     "name": "stdout",
     "output_type": "stream",
     "text": [
      "0.47906379141841127 0.06053086850956688\n"
     ]
    }
   ],
   "source": [
    "alpha=1/2\n",
    "def f(X):\n",
    "    J=np.arange(1,1001)*1.0\n",
    "    g=1+(X**alpha/J**2).sum(axis=1)\n",
    "    return 1/g\n",
    "\n",
    "n=1000\n",
    "X=uniform.rvs(size=n*1000).reshape([n,1000])\n",
    "FX=f(X)\n",
    "print(np.mean(FX),np.std(FX))"
   ]
  },
  {
   "cell_type": "code",
   "execution_count": 6,
   "metadata": {},
   "outputs": [
    {
     "name": "stdout",
     "output_type": "stream",
     "text": [
      "0.4842544405942508 0.0004081023221762047\n"
     ]
    }
   ],
   "source": [
    "n=100\n",
    "r=100\n",
    "mu=np.zeros(r)\n",
    "for i in range(r):\n",
    "    X=np.zeros([n,1000])\n",
    "    for d in range(1000):\n",
    "        X[:,d]=(np.random.choice(np.arange(n),size=n,replace=False)+uniform.rvs(size=n))/n\n",
    "    \n",
    "    mu[i]=np.mean(f(X))\n",
    "    \n",
    "print(np.mean(mu),np.std(mu))"
   ]
  },
  {
   "cell_type": "markdown",
   "metadata": {},
   "source": [
    "**10.5**"
   ]
  },
  {
   "cell_type": "code",
   "execution_count": 7,
   "metadata": {},
   "outputs": [],
   "source": [
    "def f(X):\n",
    "    return (-1)**(X>0.5).sum(axis=1)"
   ]
  },
  {
   "cell_type": "code",
   "execution_count": 8,
   "metadata": {},
   "outputs": [
    {
     "data": {
      "image/png": "[encoded data removed]",
      "text/plain": [
       "<Figure size 432x288 with 1 Axes>"
      ]
     },
     "metadata": {
      "needs_background": "light"
     },
     "output_type": "display_data"
    },
    {
     "name": "stdout",
     "output_type": "stream",
     "text": [
      "0.03162277660168379 0.03180125783675859\n"
     ]
    }
   ],
   "source": [
    "n=1000\n",
    "r=100\n",
    "mu=np.zeros(r)\n",
    "for i in range(r):\n",
    "    X=np.zeros([n,1000])\n",
    "    for d in range(1000):\n",
    "        X[:,d]=(np.random.choice(np.arange(n),size=n,replace=False)+uniform.rvs(size=n))/n\n",
    "    \n",
    "    mu[i]=np.mean(f(X))\n",
    "    \n",
    "sb.histplot(mu)\n",
    "plt.show()\n",
    "print(1/np.sqrt(n),np.std(mu))"
   ]
  },
  {
   "cell_type": "markdown",
   "metadata": {},
   "source": [
    "**10.7**"
   ]
  },
  {
   "cell_type": "code",
   "execution_count": 9,
   "metadata": {},
   "outputs": [
    {
     "name": "stdout",
     "output_type": "stream",
     "text": [
      "9.550713620031285e-19 6.906603338471383e-20\n"
     ]
    },
    {
     "data": {
      "image/png": "[encoded data removed]",
      "text/plain": [
       "<Figure size 432x288 with 1 Axes>"
      ]
     },
     "metadata": {
      "needs_background": "light"
     },
     "output_type": "display_data"
    }
   ],
   "source": [
    "f=lambda X: X.min(axis=1)\n",
    "p=lambda X: multi_norm.pdf(x=X,mean=[0,0])\n",
    "q=[lambda size,theta: multi_norm.rvs(size=size,mean=theta),lambda X,theta: multi_norm.pdf(x=X,mean=theta)]\n",
    "n=10000\n",
    "K=10\n",
    "tau=6\n",
    "eps=0.01\n",
    "def AIS():\n",
    "    Tau=np.zeros(K)\n",
    "    Theta=np.zeros([K+1,2])\n",
    "    for k in range(K):\n",
    "        X=q[0](n,Theta[k])\n",
    "        Tau[k]=np.quantile(f(X),1-eps)\n",
    "        Tau[k]=min(tau,Tau[k])    \n",
    "        W=p(X)/q[1](X,Theta[k])\n",
    "        H=W*(f(X)>=Tau[k])\n",
    "        Theta[k+1]=np.sum(H.reshape([n,1])*X,axis=0)/np.sum(H)\n",
    "\n",
    "    mu=np.mean(W*(f(X)>=tau))\n",
    "    return mu,Theta[K-1]\n",
    "\n",
    "rep=50\n",
    "Mu=np.zeros(rep)\n",
    "Theta=np.zeros(2*rep).reshape([-1,2])\n",
    "for r in range(rep):\n",
    "    Mu[r],Theta[r]=AIS()\n",
    "    \n",
    "print(np.mean(Mu),np.std(Mu))\n",
    "plt.plot(Theta[:,0],Theta[:,1],'ro')\n",
    "plt.show()"
   ]
  },
  {
   "cell_type": "markdown",
   "metadata": {},
   "source": [
    "**10.8**"
   ]
  },
  {
   "cell_type": "code",
   "execution_count": 10,
   "metadata": {},
   "outputs": [
    {
     "name": "stdout",
     "output_type": "stream",
     "text": [
      "9.91679678382701e-10 2.726416364302781e-11\n"
     ]
    },
    {
     "data": {
      "image/png": "[encoded data removed]",
      "text/plain": [
       "<Figure size 432x288 with 1 Axes>"
      ]
     },
     "metadata": {
      "needs_background": "light"
     },
     "output_type": "display_data"
    },
    {
     "name": "stdout",
     "output_type": "stream",
     "text": [
      "1.983359356765402e-09\n"
     ]
    }
   ],
   "source": [
    "f=lambda X: X.max(axis=1)\n",
    "p=lambda X: multi_norm.pdf(x=X,mean=[0,0])\n",
    "q=[lambda size,theta: multi_norm.rvs(size=size,mean=theta),lambda X,theta: multi_norm.pdf(x=X,mean=theta)]\n",
    "n=10000\n",
    "K=10\n",
    "tau=6\n",
    "eps=0.01\n",
    "def AIS():\n",
    "    Tau=np.zeros(K)\n",
    "    Theta=np.zeros([K+1,2])\n",
    "    for k in range(K):\n",
    "        X=q[0](n,Theta[k])\n",
    "        Tau[k]=np.quantile(f(X),1-eps)\n",
    "        Tau[k]=min(tau,Tau[k])    \n",
    "        W=p(X)/q[1](X,Theta[k])\n",
    "        H=W*(f(X)>=Tau[k])\n",
    "        Theta[k+1]=np.sum(H.reshape([n,1])*X,axis=0)/np.sum(H)\n",
    "\n",
    "    mu=np.mean(W*(f(X)>=tau))\n",
    "    return mu,Theta[K-1]\n",
    "\n",
    "rep=50\n",
    "Mu=np.zeros(rep)\n",
    "Theta=np.zeros(2*rep).reshape([-1,2])\n",
    "for r in range(rep):\n",
    "    Mu[r],Theta[r]=AIS()\n",
    "    \n",
    "print(np.mean(Mu),np.std(Mu))\n",
    "plt.plot(Theta[:,0],Theta[:,1],'ro')\n",
    "plt.show()\n",
    "print(2*np.mean(Mu))"
   ]
  },
  {
   "cell_type": "markdown",
   "metadata": {},
   "source": [
    "**10.10**"
   ]
  },
  {
   "cell_type": "code",
   "execution_count": 11,
   "metadata": {},
   "outputs": [],
   "source": [
    "A=1\n",
    "f=lambda x: np.exp(A*x)\n",
    "p=lambda x: norm.pdf(x=x)\n",
    "mu=np.exp(A**2/2)\n",
    "q=[lambda size,theta: norm.rvs(size=size,loc=theta),lambda x,theta: norm.pdf(x=x,loc=theta)]\n",
    "n=20\n",
    "K=400\n",
    "def toy():\n",
    "    Theta=np.zeros(K+1)\n",
    "    Mu=np.zeros(K)\n",
    "    eps=1e-12\n",
    "    flag=False\n",
    "    for k in range(K):\n",
    "        x=q[0](n,Theta[k])\n",
    "        W=f(x)*p(x)/q[1](x,Theta[k])\n",
    "        Mu[k]=np.mean(W)\n",
    "        if Mu[k]<1:\n",
    "            flag=True\n",
    "            \n",
    "        if np.abs(Mu[k]-mu)<eps:\n",
    "            break\n",
    "            \n",
    "        Theta[k+1]=np.sqrt(2*np.log(max(1,Mu[k])))\n",
    "        \n",
    "    return k,Mu[k],Theta[k],flag\n",
    "\n",
    "N=1000\n",
    "KK=np.zeros(N)\n",
    "Mu=np.zeros(N)\n",
    "Theta=np.zeros(N)\n",
    "Flag=np.zeros(N)\n",
    "for i in range(N):\n",
    "    KK[i],Mu[i],Theta[i],Flag[i]=toy()"
   ]
  },
  {
   "cell_type": "code",
   "execution_count": 12,
   "metadata": {},
   "outputs": [
    {
     "name": "stdout",
     "output_type": "stream",
     "text": [
      "success rate: 1.0\n",
      "success step: 12.95\n",
      "average mu(k)<1: 0.038\n"
     ]
    }
   ],
   "source": [
    "print('success rate:',np.mean(np.abs(Mu-mu)<eps))\n",
    "print('success step:',np.mean(KK))\n",
    "print('average mu(k)<1:',np.mean(Flag))"
   ]
  },
  {
   "cell_type": "markdown",
   "metadata": {},
   "source": [
    "**10.11**"
   ]
  },
  {
   "cell_type": "code",
   "execution_count": 13,
   "metadata": {},
   "outputs": [
    {
     "data": {
      "image/png": "[encoded data removed]",
      "text/plain": [
       "<Figure size 432x288 with 1 Axes>"
      ]
     },
     "metadata": {
      "needs_background": "light"
     },
     "output_type": "display_data"
    },
    {
     "name": "stdout",
     "output_type": "stream",
     "text": [
      "1.1249444522319425 1.125\n"
     ]
    },
    {
     "data": {
      "image/png": "[encoded data removed]",
      "text/plain": [
       "<Figure size 432x288 with 1 Axes>"
      ]
     },
     "metadata": {
      "needs_background": "light"
     },
     "output_type": "display_data"
    }
   ],
   "source": [
    "def Var(r0,r1,K):\n",
    "    K=(np.arange(K)+1)**1.0\n",
    "    nom=np.sum(K**(2*r1-r0))\n",
    "    den=np.sum(K**r1)**2\n",
    "    return nom/den\n",
    "\n",
    "K=10000\n",
    "N=50\n",
    "R1=np.linspace(0,1,N+1)\n",
    "def exp(r0):\n",
    "    VAR=np.zeros(N+1)\n",
    "    for i,r1 in enumerate(R1):\n",
    "        VAR[i]=Var(r0,r1,K)\n",
    "        \n",
    "    return VAR\n",
    "    \n",
    "R0=np.linspace(0,1,N+1)\n",
    "Mid=np.zeros(N+1)\n",
    "for i,r0 in enumerate(R0):\n",
    "    VAR=exp(r0)\n",
    "    Mid[i]=VAR[int(N/2)]/Var(r0,r0,K)\n",
    "    plt.plot(R1,VAR/Var(r0,r0,K))\n",
    "\n",
    "plt.show()\n",
    "\n",
    "print(np.max(Mid),9/8)\n",
    "plt.plot(R0,Mid)\n",
    "plt.show()"
   ]
  },
  {
   "cell_type": "markdown",
   "metadata": {},
   "source": [
    "**10.12**"
   ]
  },
  {
   "cell_type": "code",
   "execution_count": 14,
   "metadata": {},
   "outputs": [
    {
     "data": {
      "image/png": "[encoded data removed]",
      "text/plain": [
       "<Figure size 432x288 with 1 Axes>"
      ]
     },
     "metadata": {
      "needs_background": "light"
     },
     "output_type": "display_data"
    }
   ],
   "source": [
    "p0=lambda x: np.exp(-(x+1)**2/2)\n",
    "p0rvs=lambda size: norm.rvs(size=size,loc=-1)\n",
    "p1=lambda x: (x**2)*((1-x)**3)*(x>0)*(x<1)\n",
    "p1rvs=lambda size: beta.rvs(size=size,a=3,b=4)\n",
    "Z0=np.sqrt(2*np.pi)\n",
    "Z1=1/60\n",
    "rho=Z1/Z0\n",
    "\n",
    "x=np.linspace(-3,3,1000)\n",
    "plt.plot(x,p0(x)/Z0)\n",
    "plt.plot(x,p1(x)/Z1)\n",
    "plt.show()"
   ]
  },
  {
   "cell_type": "code",
   "execution_count": 15,
   "metadata": {},
   "outputs": [
    {
     "data": {
      "image/png": "[encoded data removed]",
      "text/plain": [
       "<Figure size 432x288 with 1 Axes>"
      ]
     },
     "metadata": {
      "needs_background": "light"
     },
     "output_type": "display_data"
    }
   ],
   "source": [
    "n0=1000\n",
    "n1=1200\n",
    "s0=n0/(n0+n1)\n",
    "s1=n1/(n0+n1)\n",
    "p12=lambda x,rho0: p0(x)*p1(x)/(rho0*s0*p0(x)+s1*p1(x))\n",
    "plt.plot(x,p12(x,10),label=10)\n",
    "plt.plot(x,p12(x,1),label=1)\n",
    "plt.plot(x,p12(x,0.1),label=1)\n",
    "plt.plot(x,p12(x,rho),label=rho)\n",
    "plt.legend()\n",
    "plt.show()"
   ]
  },
  {
   "cell_type": "code",
   "execution_count": 16,
   "metadata": {},
   "outputs": [
    {
     "name": "stdout",
     "output_type": "stream",
     "text": [
      "RMSE/rho: [0.09772346 0.09213149 0.08759942 0.09447395 0.11482075]\n"
     ]
    }
   ],
   "source": [
    "def bridge(Rho):\n",
    "    X0=p0rvs(n0)\n",
    "    X1=p1rvs(n1)\n",
    "    p0X0=p0(X0)\n",
    "    p0X1=p0(X1)\n",
    "    p1X0=p1(X0)\n",
    "    p1X1=p1(X1)\n",
    "    RhoE=np.zeros_like(Rho)\n",
    "    for i,rho0 in enumerate(Rho):\n",
    "        nom=p1X0/(rho0*s0*p0X0+s1*p1X0)\n",
    "        den=p0X1/(rho0*s0*p0X1+s1*p1X1)\n",
    "        RhoE[i]=np.mean(nom)/np.mean(den)\n",
    "        \n",
    "    return RhoE\n",
    "\n",
    "rep=10000\n",
    "Rho=[100*rho,10*rho,rho,rho/10,rho/100]\n",
    "Data=np.zeros([rep,len(Rho)])\n",
    "for i in range(rep):\n",
    "    Data[i]=bridge(Rho)\n",
    "    \n",
    "print('RMSE/rho:',np.sqrt(np.mean((Data-rho)**2,axis=0))/rho)"
   ]
  },
  {
   "cell_type": "code",
   "execution_count": 17,
   "metadata": {},
   "outputs": [
    {
     "name": "stdout",
     "output_type": "stream",
     "text": [
      "RMSE/rho: [0.09924718 0.08857354 0.08856266 0.08856271 0.08856273 0.08860947]\n"
     ]
    }
   ],
   "source": [
    "def bridge():\n",
    "    n0=1000\n",
    "    n1=1200\n",
    "    s0=n0/(n0+n1)\n",
    "    s1=n1/(n0+n1)\n",
    "    X0=p0rvs(n0)\n",
    "    X1=p1rvs(n1)\n",
    "    p0X0=p0(X0)\n",
    "    p0X1=p0(X1)\n",
    "    p1X0=p1(X0)\n",
    "    p1X1=p1(X1)\n",
    "    Rho=np.ones(7)\n",
    "    for i in range(5):\n",
    "        nom=p1X0/(Rho[i]*s0*p0X0+s1*p1X0)\n",
    "        den=p0X1/(Rho[i]*s0*p0X1+s1*p1X1)\n",
    "        Rho[i+1]=np.mean(nom)/np.mean(den)\n",
    "        \n",
    "    nom=p1X0/(rho*s0*p0X0+s1*p1X0)\n",
    "    den=p0X1/(rho*s0*p0X1+s1*p1X1)\n",
    "    Rho[6]=np.mean(nom)/np.mean(den)\n",
    "    return Rho[1:]\n",
    "\n",
    "rep=10000\n",
    "Data=np.zeros([rep,6])\n",
    "for i in range(rep):\n",
    "    Data[i]=bridge()\n",
    "    \n",
    "print('RMSE/rho:',np.sqrt(np.mean((Data-rho)**2,axis=0))/rho)"
   ]
  },
  {
   "cell_type": "code",
   "execution_count": null,
   "metadata": {},
   "outputs": [],
   "source": []
  }
 ],
 "metadata": {
  "kernelspec": {
   "display_name": "Python 3",
   "language": "python",
   "name": "python3"
  },
  "language_info": {
   "codemirror_mode": {
    "name": "ipython",
    "version": 3
   },
   "file_extension": ".py",
   "mimetype": "text/x-python",
   "name": "python",
   "nbconvert_exporter": "python",
   "pygments_lexer": "ipython3",
   "version": "3.9.1"
  }
 },
 "nbformat": 4,
 "nbformat_minor": 4
}
