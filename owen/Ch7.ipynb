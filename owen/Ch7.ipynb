{
 "cells": [
  {
   "cell_type": "code",
   "execution_count": null,
   "metadata": {},
   "outputs": [],
   "source": [
    "from matplotlib import pyplot as plt\n",
    "import seaborn as sb\n",
    "import numpy as np\n",
    "from scipy.stats import uniform,norm,t,binom,expon,chi2,gamma,poisson,beta,dirichlet\n",
    "from scipy.stats import multivariate_normal as multi_norm\n",
    "from scipy.optimize import brentq\n",
    "from scipy.special import perm,comb\n",
    "import time\n",
    "import pandas as pd"
   ]
  },
  {
   "cell_type": "markdown",
   "metadata": {},
   "source": [
    "**7.1**"
   ]
  },
  {
   "cell_type": "code",
   "execution_count": null,
   "metadata": {},
   "outputs": [],
   "source": [
    "def post_p(p):\n",
    "    m=30\n",
    "    x=10\n",
    "    res=(p*0.997+(1-p)*0.15)**x\n",
    "    res*=((1-p)*0.85+p*0.003)**(m-x)\n",
    "    return res\n",
    "\n",
    "p_post_p=lambda p: p*post_p(p)\n",
    "p2_post_p=lambda p: p**2*post_p(p)\n",
    "p13_post_p=lambda p: (p<=1/3)*post_p(p)"
   ]
  },
  {
   "cell_type": "code",
   "execution_count": null,
   "metadata": {},
   "outputs": [],
   "source": [
    "P=np.linspace(0,1,int(10**6)+1)\n",
    "mid=(P[1:]+P[:-1])/2\n",
    "Ep=np.sum(p_post_p(mid))/np.sum(post_p(mid))\n",
    "Ep2=np.sum(p2_post_p(mid))/np.sum(post_p(mid))\n",
    "Vp=Ep2-Ep**2\n",
    "Pp=np.sum(p13_post_p(mid))/np.sum(post_p(mid))"
   ]
  },
  {
   "cell_type": "markdown",
   "metadata": {},
   "source": [
    "**7.2**"
   ]
  },
  {
   "cell_type": "code",
   "execution_count": null,
   "metadata": {},
   "outputs": [],
   "source": [
    "N=10**np.arange(1,6)\n",
    "Eps=np.zeros(5)\n",
    "Vps=np.zeros(5)\n",
    "Pps=np.zeros(5)\n",
    "for i,n in enumerate(N):\n",
    "    P=np.linspace(0,1,int(n)+1)\n",
    "    mid=(P[1:]+P[:-1])/2\n",
    "    Eps[i]=np.sum(p_post_p(mid))/np.sum(post_p(mid))\n",
    "    Ep2=np.sum(p2_post_p(mid))/np.sum(post_p(mid))\n",
    "    Vps[i]=Ep2-Eps[i]**2\n",
    "    Pps[i]=np.sum(p13_post_p(mid))/np.sum(post_p(mid))"
   ]
  },
  {
   "cell_type": "code",
   "execution_count": null,
   "metadata": {},
   "outputs": [],
   "source": [
    "plt.plot(np.log(N),np.log(np.abs(Eps-Ep)),label='Ep')\n",
    "plt.plot(np.log(N),np.log(np.abs(Vps-Vp)),label='Vp')\n",
    "plt.plot(np.log(N),np.log(np.abs(Pps-Pp)),label='Pp')\n",
    "plt.legend()\n",
    "plt.show()\n",
    "a=np.log(N)\n",
    "b=np.log(np.abs(Eps-Ep))\n",
    "c=np.log(np.abs(Pps-Pp))\n",
    "print((b[-1]-b[0])/(a[-1]-a[0]))\n",
    "print((c[-1]-c[0])/(a[-1]-a[0]))"
   ]
  },
  {
   "cell_type": "code",
   "execution_count": null,
   "metadata": {},
   "outputs": [],
   "source": []
  }
 ],
 "metadata": {
  "kernelspec": {
   "display_name": "Python 3",
   "language": "python",
   "name": "python3"
  },
  "language_info": {
   "codemirror_mode": {
    "name": "ipython",
    "version": 3
   },
   "file_extension": ".py",
   "mimetype": "text/x-python",
   "name": "python",
   "nbconvert_exporter": "python",
   "pygments_lexer": "ipython3",
   "version": "3.9.1"
  }
 },
 "nbformat": 4,
 "nbformat_minor": 4
}
