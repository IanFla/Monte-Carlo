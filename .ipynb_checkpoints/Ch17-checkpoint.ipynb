{
 "cells": [
  {
   "cell_type": "code",
   "execution_count": 1,
   "metadata": {},
   "outputs": [],
   "source": [
    "from matplotlib import pyplot as plt\n",
    "import seaborn as sb\n",
    "import numpy as np\n",
    "from scipy.stats import uniform,norm,t,binom,expon,chi2,gamma,poisson,beta,dirichlet\n",
    "from scipy.stats import multivariate_normal as mvnorm\n",
    "from sklearn.linear_model import LinearRegression as Linear\n",
    "from scipy.optimize import brentq,minimize\n",
    "from scipy.special import perm,comb\n",
    "from time import time\n",
    "import pandas as pd\n",
    "import qmcpy as qp\n",
    "\n",
    "import warnings\n",
    "warnings.filterwarnings(\"ignore\")"
   ]
  },
  {
   "cell_type": "markdown",
   "metadata": {},
   "source": [
    "**17.1**"
   ]
  },
  {
   "cell_type": "code",
   "execution_count": 2,
   "metadata": {},
   "outputs": [],
   "source": [
    "def bootstrap(S,B):\n",
    "    parS=np.mean(S)\n",
    "    stdS=np.sqrt(np.sum((S-parS)**2)/(S.size-1))\n",
    "    \n",
    "    parsBS=np.zeros(B)\n",
    "    stdsBS=np.zeros(B)\n",
    "    for i in range(B):\n",
    "        BS=np.random.choice(S,S.size)\n",
    "        parsBS[i]=np.mean(BS)\n",
    "        stdsBS[i]=np.sqrt(np.sum((BS-parsBS[i])**2)/(S.size-1))\n",
    "        \n",
    "    parsBS2=stdS/stdsBS*(parsBS-parS)+parS\n",
    "    alpha=0.05\n",
    "    itv1=(2*parS-np.quantile(parsBS,1-alpha/2),\\\n",
    "          2*parS-np.quantile(parsBS,alpha/2))\n",
    "    itv2=(2*parS-np.quantile(parsBS2,1-alpha/2),\\\n",
    "          2*parS-np.quantile(parsBS2,alpha/2))\n",
    "    \n",
    "    return itv1,itv2\n",
    "\n",
    "def experiment(par,rvs,n=20,B=200,N=1000):\n",
    "    count1=0\n",
    "    count2=0\n",
    "    count3=0\n",
    "    length1=0\n",
    "    length2=0\n",
    "    for t in range(N):\n",
    "        S=rvs(n)\n",
    "        itv1,itv2=bootstrap(S,B)\n",
    "        count1+=par>=itv1[0] and par<=itv1[1]\n",
    "        count2+=par>=itv2[0] and par<=itv2[1]\n",
    "        count3+=itv2[1]-itv2[0]>itv1[1]-itv1[0]\n",
    "        length1+=itv1[1]-itv1[0]\n",
    "        length2+=itv2[1]-itv2[0]\n",
    "    \n",
    "    print('coverage 1: {}'.format(count1/N))\n",
    "    print('coverage 2: {}'.format(count2/N))\n",
    "    print('longer: {}'.format(count3/N))\n",
    "    print('length 1: {:.3f}'.format(length1/N))\n",
    "    print('length 2: {:.3f}'.format(length2/N))"
   ]
  },
  {
   "cell_type": "code",
   "execution_count": 3,
   "metadata": {},
   "outputs": [
    {
     "name": "stdout",
     "output_type": "stream",
     "text": [
      "n=10:\n",
      "coverage 1: 0.87\n",
      "coverage 2: 0.934\n",
      "longer: 0.999\n",
      "length 1: 0.275\n",
      "length 2: 0.362\n",
      "n=20:\n",
      "coverage 1: 0.919\n",
      "coverage 2: 0.938\n",
      "longer: 0.975\n",
      "length 1: 0.205\n",
      "length 2: 0.228\n",
      "n=50:\n",
      "coverage 1: 0.935\n",
      "coverage 2: 0.943\n",
      "longer: 0.854\n",
      "length 1: 0.133\n",
      "length 2: 0.138\n",
      "n=200:\n",
      "coverage 1: 0.938\n",
      "coverage 2: 0.941\n",
      "longer: 0.639\n",
      "length 1: 0.068\n",
      "length 2: 0.068\n"
     ]
    }
   ],
   "source": [
    "def rvs(size):\n",
    "    S=np.zeros(size)\n",
    "    for i in range(size):\n",
    "        S[i]=norm.rvs(size=16).mean()\n",
    "        \n",
    "    return S\n",
    "\n",
    "print('n=10:')\n",
    "experiment(0,lambda size: rvs(size=size),n=10)\n",
    "print('n=20:')\n",
    "experiment(0,lambda size: rvs(size=size),n=20)\n",
    "print('n=50:')\n",
    "experiment(0,lambda size: rvs(size=size),n=50)\n",
    "print('n=200:')\n",
    "experiment(0,lambda size: rvs(size=size),n=200)"
   ]
  },
  {
   "cell_type": "code",
   "execution_count": 4,
   "metadata": {},
   "outputs": [
    {
     "name": "stdout",
     "output_type": "stream",
     "text": [
      "QRNG:\n",
      "coverage 1: 0.917\n",
      "coverage 2: 0.954\n",
      "longer: 0.984\n",
      "length 1: 0.082\n",
      "length 2: 0.091\n",
      "OWEN:\n",
      "coverage 1: 0.91\n",
      "coverage 2: 0.947\n",
      "longer: 0.988\n",
      "length 1: 0.082\n",
      "length 2: 0.091\n"
     ]
    }
   ],
   "source": [
    "def rvs(size):\n",
    "    S=np.zeros(size)\n",
    "    for i in range(size):\n",
    "        S[i]=qp.Gaussian(qp.Halton(1,randomize='QRNG')).gen_samples(16).mean()\n",
    "        \n",
    "    return S\n",
    "\n",
    "print('QRNG:')\n",
    "experiment(0,rvs)\n",
    "\n",
    "def rvs(size):\n",
    "    S=np.zeros(size)\n",
    "    for i in range(size):\n",
    "        S[i]=qp.Gaussian(qp.Halton(1,randomize='OWEN')).gen_samples(16).mean()\n",
    "        \n",
    "    return S\n",
    "\n",
    "print('OWEN:')\n",
    "experiment(0,rvs)"
   ]
  },
  {
   "cell_type": "code",
   "execution_count": 5,
   "metadata": {},
   "outputs": [
    {
     "name": "stdout",
     "output_type": "stream",
     "text": [
      "coverage 1: 0.925\n",
      "coverage 2: 0.954\n",
      "longer: 0.988\n",
      "length 1: 0.083\n",
      "length 2: 0.092\n"
     ]
    }
   ],
   "source": [
    "def rvs(size):\n",
    "    S=np.zeros(size)\n",
    "    for i in range(size):\n",
    "        S[i]=qp.Gaussian(qp.Lattice(1)).gen_samples(16).mean()\n",
    "        \n",
    "    return S\n",
    "\n",
    "experiment(0,rvs)"
   ]
  },
  {
   "cell_type": "code",
   "execution_count": 6,
   "metadata": {},
   "outputs": [
    {
     "name": "stdout",
     "output_type": "stream",
     "text": [
      "LMS:\n",
      "coverage 1: 0.922\n",
      "coverage 2: 0.9\n",
      "longer: 0.97\n",
      "length 1: 0.030\n",
      "length 2: 0.034\n",
      "DS:\n",
      "coverage 1: 0.913\n",
      "coverage 2: 0.957\n",
      "longer: 0.985\n",
      "length 1: 0.082\n",
      "length 2: 0.092\n"
     ]
    }
   ],
   "source": [
    "def rvs(size):\n",
    "    S=np.zeros(size)\n",
    "    for i in range(size):\n",
    "        S[i]=qp.Gaussian(qp.Sobol(1,randomize='LMS')).gen_samples(16).mean()\n",
    "        \n",
    "    return S\n",
    "\n",
    "print('LMS:')\n",
    "experiment(0,rvs)\n",
    "\n",
    "def rvs(size):\n",
    "    S=np.zeros(size)\n",
    "    for i in range(size):\n",
    "        S[i]=qp.Gaussian(qp.Sobol(1,randomize='DS')).gen_samples(16).mean()\n",
    "        \n",
    "    return S\n",
    "\n",
    "print('DS:')\n",
    "experiment(0,rvs)"
   ]
  },
  {
   "cell_type": "code",
   "execution_count": null,
   "metadata": {},
   "outputs": [],
   "source": []
  },
  {
   "cell_type": "code",
   "execution_count": null,
   "metadata": {},
   "outputs": [],
   "source": []
  }
 ],
 "metadata": {
  "kernelspec": {
   "display_name": "Python 3",
   "language": "python",
   "name": "python3"
  },
  "language_info": {
   "codemirror_mode": {
    "name": "ipython",
    "version": 3
   },
   "file_extension": ".py",
   "mimetype": "text/x-python",
   "name": "python",
   "nbconvert_exporter": "python",
   "pygments_lexer": "ipython3",
   "version": "3.9.2"
  }
 },
 "nbformat": 4,
 "nbformat_minor": 4
}
