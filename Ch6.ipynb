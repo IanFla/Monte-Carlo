{
 "cells": [
  {
   "cell_type": "code",
   "execution_count": null,
   "metadata": {},
   "outputs": [],
   "source": [
    "from matplotlib import pyplot as plt\n",
    "import seaborn as sb\n",
    "import numpy as np\n",
    "from scipy.stats import uniform,norm,t,binom,expon,chi2,gamma,poisson,beta,dirichlet\n",
    "from scipy.stats import multivariate_normal as multi_norm\n",
    "from scipy.optimize import brentq\n",
    "from scipy.special import perm,comb\n",
    "import time\n",
    "import pandas as pd"
   ]
  },
  {
   "cell_type": "markdown",
   "metadata": {},
   "source": [
    "**6.2**"
   ]
  },
  {
   "cell_type": "code",
   "execution_count": null,
   "metadata": {},
   "outputs": [],
   "source": [
    "nmax=75\n",
    "thetaR=0.75\n",
    "thetaM=0.9\n",
    "logA=np.log(1/19)\n",
    "logB=np.log(19)\n",
    "\n",
    "Z=lambda theta: np.random.choice([np.log(thetaM/thetaR),np.log((1-thetaM)/(1-thetaR))],p=[theta,1-theta])\n",
    "\n",
    "N=1000\n",
    "arrive=0\n",
    "upper=0\n",
    "lower=0\n",
    "I=nmax*np.ones(N)\n",
    "for k in range(N):\n",
    "    X=np.zeros(nmax+1)\n",
    "    for i in range(nmax):\n",
    "        X[i+1]=X[i]+Z(thetaR)\n",
    "        if X[i+1]<logA or X[i+1]>logB:\n",
    "            I[k]=i+1\n",
    "            break\n",
    "            \n",
    "    if X[i+1]<logA:\n",
    "        lower+=1\n",
    "            \n",
    "    elif X[i+1]>logB:\n",
    "        upper+=1\n",
    "    else:\n",
    "        arrive+=1\n",
    "    \n",
    "    plt.plot(np.arange(i+2),X[:i+2])\n",
    "\n",
    "plt.plot([0,nmax],[logB,logB],c='g')\n",
    "plt.plot([0,nmax],[logA,logA],c='r')\n",
    "plt.show()\n",
    "print(arrive,upper,lower)"
   ]
  },
  {
   "cell_type": "code",
   "execution_count": null,
   "metadata": {},
   "outputs": [],
   "source": [
    "sb.histplot(I)\n",
    "plt.show()"
   ]
  },
  {
   "cell_type": "markdown",
   "metadata": {},
   "source": [
    "**6.4**"
   ]
  },
  {
   "cell_type": "code",
   "execution_count": null,
   "metadata": {},
   "outputs": [],
   "source": [
    "alpha=1.5\n",
    "p=lambda X: np.array([2*X[0]**alpha,X[1]**alpha])/(2*X[0]**alpha+X[1]**alpha)\n",
    "Z=lambda X: np.random.choice([0,1],p=p(X))\n",
    "T=1000\n",
    "\n",
    "N=1000\n",
    "winR=0\n",
    "winB=0\n",
    "for k in range(N):\n",
    "    X=np.ones(2)\n",
    "    for t in range(T):\n",
    "        X[Z(X)]+=1\n",
    "        \n",
    "    if X[0]>20*X[1]:\n",
    "        winR+=1\n",
    "    elif X[1]>20*X[0]:\n",
    "        winB+=1"
   ]
  },
  {
   "cell_type": "code",
   "execution_count": null,
   "metadata": {},
   "outputs": [],
   "source": [
    "print(winR/N,winB/N,(N-winR-winB)/N)"
   ]
  },
  {
   "cell_type": "markdown",
   "metadata": {},
   "source": [
    "**6.8**"
   ]
  },
  {
   "cell_type": "code",
   "execution_count": null,
   "metadata": {},
   "outputs": [],
   "source": [
    "def BB_params(m,s):\n",
    "    u=np.int64(-1*np.ones(m))\n",
    "    v=np.int64(-1*np.ones(m))\n",
    "    a=np.zeros(m)\n",
    "    b=np.zeros(m)\n",
    "    w=np.zeros(m)\n",
    "    for j in range(m):\n",
    "        sub=s[:j][s[:j]<s[j]]\n",
    "        u[j]=-1 if len(sub)==0 else np.argmax(s[:j]==np.max(sub))\n",
    "        sub=s[:j][s[:j]>s[j]]\n",
    "        v[j]=-1 if len(sub)==0 else np.argmax(s[:j]==np.min(sub))\n",
    "        if u[j]>=0 and v[j]>=0:\n",
    "            l=s[u[j]]\n",
    "            r=s[v[j]]\n",
    "            a[j]=(r-s[j])/(r-l)\n",
    "            b[j]=(s[j]-l)/(r-l)\n",
    "            w[j]=np.sqrt((s[j]-l)*(r-s[j])/(r-l))\n",
    "        elif u[j]>=0:\n",
    "            l=s[u[j]]\n",
    "            a[j]=1\n",
    "            w[j]=np.sqrt(s[j]-l)\n",
    "        elif v[j]>=0:\n",
    "            r=s[v[j]]\n",
    "            b[j]=s[j]/r\n",
    "            w[j]=np.sqrt(s[j]*(r-s[j])/r)\n",
    "        else:\n",
    "            w[j]=np.sqrt(s[j])\n",
    "            \n",
    "    return u,v,a,b,w\n",
    "\n",
    "def BMviaBB(m,s,z,params):\n",
    "    u,v,a,b,w=params\n",
    "    B=np.zeros(m)\n",
    "    for j in range(m):\n",
    "        B[j]=w[j]*z[j]\n",
    "        if u[j]>=0:\n",
    "            B[j]+=a[j]*B[u[j]]\n",
    "        \n",
    "        if v[j]>=0:\n",
    "            B[j]+=b[j]*B[v[j]]\n",
    "            \n",
    "    return B\n",
    "\n",
    "def third(m):\n",
    "    s=uniform.rvs(size=m)\n",
    "    params=BB_params(m,s)\n",
    "    C=np.zeros((m,m))\n",
    "    for i in range(m):\n",
    "        z=np.zeros(m)\n",
    "        z[i]=1\n",
    "        C[i,:]=BMviaBB(m,s,z,params)\n",
    "#         plt.plot(np.sort(s),C[i,np.argsort(s)])\n",
    "        \n",
    "#     plt.show()\n",
    "    sigma=C.dot(C.T)\n",
    "    E=0\n",
    "    for i in range(m):\n",
    "        for j in range(m):\n",
    "            E+=sigma[i,j]-min(s[i],s[j])\n",
    "    \n",
    "    return E"
   ]
  },
  {
   "cell_type": "code",
   "execution_count": null,
   "metadata": {},
   "outputs": [],
   "source": [
    "m=1000\n",
    "s=uniform.rvs(size=m)\n",
    "params=BB_params(m,s)\n",
    "z=norm.rvs(size=m)\n",
    "B=BMviaBB(m,s,z,params)\n",
    "\n",
    "plt.plot(np.sort(s),B[np.argsort(s)])\n",
    "plt.show()"
   ]
  },
  {
   "cell_type": "code",
   "execution_count": null,
   "metadata": {},
   "outputs": [],
   "source": [
    "N=100\n",
    "E=np.zeros(N)\n",
    "for i in range(N):\n",
    "    E[i]=third(40)\n",
    "    \n",
    "print(max(E))"
   ]
  },
  {
   "cell_type": "markdown",
   "metadata": {},
   "source": [
    "**6.10**"
   ]
  },
  {
   "cell_type": "code",
   "execution_count": null,
   "metadata": {},
   "outputs": [],
   "source": [
    "S0=1\n",
    "delta=0.035\n",
    "sigma=0.25\n",
    "N=257\n",
    "t=np.linspace(0,1,N)\n",
    "params=BB_params(N,t)\n",
    "\n",
    "def GeoB():\n",
    "    z=norm.rvs(size=N)\n",
    "    B=BMviaBB(N,t,z,params)\n",
    "    S=S0*np.exp((delta-sigma**2/2)*t+sigma*B)\n",
    "    return S"
   ]
  },
  {
   "cell_type": "code",
   "execution_count": null,
   "metadata": {},
   "outputs": [],
   "source": [
    "num=1000\n",
    "a=np.zeros(num)\n",
    "b=np.zeros(num)\n",
    "c=np.zeros(num)\n",
    "d=np.zeros(num)\n",
    "e=np.zeros(num)\n",
    "f=np.zeros(num)\n",
    "g=np.zeros(num)\n",
    "for k in range(k):\n",
    "    S=GeoB()\n",
    "    a[k]=np.max([np.mean(S[1:])-1,0])\n",
    "    b[k]=np.max([np.mean(S[1:])-1.2,0])\n",
    "    c[k]=np.max([1-np.mean(S[1:]),0])\n",
    "    d[k]=np.max([S[-1]-1,0])*all(S[1:]>0.9)\n",
    "    e[k]=np.max([1-np.mean(S[1:]),0])*(1-all(S[1:]<1.1))\n",
    "    f[k]=np.max(np.maximum(S[1:]-1.1,0))\n",
    "    g[k]=np.max(S[1:])-S[-1]"
   ]
  },
  {
   "cell_type": "code",
   "execution_count": null,
   "metadata": {},
   "outputs": [],
   "source": [
    "print(np.mean(a))\n",
    "print(np.mean(b))\n",
    "print(np.mean(c))\n",
    "print(np.mean(d))\n",
    "print(np.mean(e))\n",
    "print(np.mean(f))\n",
    "print(np.mean(g))"
   ]
  },
  {
   "cell_type": "markdown",
   "metadata": {},
   "source": [
    "**6.11**"
   ]
  },
  {
   "cell_type": "code",
   "execution_count": null,
   "metadata": {},
   "outputs": [],
   "source": [
    "m=1000\n",
    "t=np.linspace(0,1,m)\n",
    "params=BB_params(m,t)\n",
    "\n",
    "N=2000\n",
    "C=np.zeros([N,m])\n",
    "for n in range(N):\n",
    "    z1=norm.rvs(size=m)\n",
    "    B1=BMviaBB(m,t,z1,params)\n",
    "    z2=norm.rvs(size=m)\n",
    "    B2=np.flipud(BMviaBB(m,t,z2,params))\n",
    "    C[n,:]=B1+B2"
   ]
  },
  {
   "cell_type": "code",
   "execution_count": null,
   "metadata": {},
   "outputs": [],
   "source": [
    "plt.plot(t,C.mean(axis=0))\n",
    "plt.plot(t,C.mean(axis=0)+2.58*C.std(axis=0)/np.sqrt(N))\n",
    "plt.plot(t,C.mean(axis=0)-2.58*C.std(axis=0)/np.sqrt(N))\n",
    "plt.show()\n",
    "\n",
    "X,Y=np.meshgrid(t,t)\n",
    "COV=np.cov(C.T)\n",
    "\n",
    "plt.rcParams['figure.figsize']=(7,7)\n",
    "fig=plt.figure()\n",
    "ax=plt.axes(projection='3d')\n",
    "ax.plot_surface(X,Y,COV,alpha=0.4,cmap='rainbow')\n",
    "plt.show()\n",
    "\n",
    "print(np.corrcoef(C.T[[0,-1]]))"
   ]
  },
  {
   "cell_type": "code",
   "execution_count": null,
   "metadata": {},
   "outputs": [],
   "source": [
    "m=301\n",
    "t=np.linspace(0,1,m)\n",
    "params=BB_params(m,t)\n",
    "\n",
    "N=10\n",
    "for n in range(N):\n",
    "    z1=norm.rvs(size=m)\n",
    "    B1=BMviaBB(m,t,z1,params)\n",
    "    z2=norm.rvs(size=m)\n",
    "    B2=np.flipud(BMviaBB(m,t,z2,params))\n",
    "    C=B1+B2\n",
    "    plt.plot(t,C)\n",
    "\n",
    "plt.show()"
   ]
  },
  {
   "cell_type": "code",
   "execution_count": null,
   "metadata": {},
   "outputs": [],
   "source": [
    "def conBMviaBB(m,s,z,params,Bint):\n",
    "    u,v,a,b,w=params\n",
    "    B=np.zeros(m)\n",
    "    k=len(Bint)\n",
    "    B[:k]=Bint\n",
    "    for j in range(k,m):\n",
    "        B[j]=w[j]*z[j]\n",
    "        if u[j]>=0:\n",
    "            B[j]+=a[j]*B[u[j]]\n",
    "        \n",
    "        if v[j]>=0:\n",
    "            B[j]+=b[j]*B[v[j]]\n",
    "            \n",
    "    return B"
   ]
  },
  {
   "cell_type": "code",
   "execution_count": null,
   "metadata": {},
   "outputs": [],
   "source": [
    "m=301\n",
    "t=np.linspace(0,1-1/m,m-1)\n",
    "t=np.append(1,t)\n",
    "params=BB_params(m,t)\n",
    "\n",
    "N=10\n",
    "for n in range(N):\n",
    "    z1=norm.rvs(size=m)\n",
    "    B1=conBMviaBB(m,t,z1,params,[-1])[np.argsort(t)]\n",
    "    z2=norm.rvs(size=m)\n",
    "    B2=conBMviaBB(m,t,z2,params,[1])[np.argsort(t)]\n",
    "    B2=np.flipud(B2)\n",
    "    C=B1+B2\n",
    "    plt.plot(np.sort(t),C)\n",
    "\n",
    "plt.show()"
   ]
  },
  {
   "cell_type": "markdown",
   "metadata": {},
   "source": [
    "**6.12**"
   ]
  },
  {
   "cell_type": "code",
   "execution_count": null,
   "metadata": {},
   "outputs": [],
   "source": [
    "beta1=4/5\n",
    "beta2=6/7\n",
    "R=2\n",
    "Cs=R**(beta2/(beta2-beta1))\n",
    "print(Cs)\n",
    "R=1.1\n",
    "Cs=R**(beta2/(beta2-beta1))\n",
    "print(Cs)"
   ]
  },
  {
   "cell_type": "code",
   "execution_count": null,
   "metadata": {},
   "outputs": [],
   "source": [
    "beta1=2/3\n",
    "beta2=4/5\n",
    "R=2\n",
    "Cs=R**(beta2/(beta2-beta1))\n",
    "print(Cs)\n",
    "R=1.1\n",
    "Cs=R**(beta2/(beta2-beta1))\n",
    "print(Cs)"
   ]
  },
  {
   "cell_type": "code",
   "execution_count": null,
   "metadata": {},
   "outputs": [],
   "source": [
    "beta1=2/3\n",
    "beta2=4/5\n",
    "R=4\n",
    "Cs=R**(beta2/(beta2-beta1))\n",
    "print(Cs)\n",
    "R=2.2\n",
    "Cs=R**(beta2/(beta2-beta1))\n",
    "print(Cs)"
   ]
  },
  {
   "cell_type": "markdown",
   "metadata": {},
   "source": [
    "**6.13**"
   ]
  },
  {
   "cell_type": "code",
   "execution_count": null,
   "metadata": {},
   "outputs": [],
   "source": [
    "delta=0.05\n",
    "sigma=0.4\n",
    "N=1000\n",
    "t=np.linspace(0,10,N+1)\n",
    "dt=t.max()/N\n",
    "params=BB_params(N+1,t)\n",
    "\n",
    "times=100\n",
    "So=np.ones([times,N+1])\n",
    "Se=np.ones([times,N+1])\n",
    "Sm=np.ones([times,N+1])\n",
    "for i in range(times):\n",
    "    Z=norm.rvs(size=N)\n",
    "    B=BMviaBB(N+1,t,np.append(0,Z),params)\n",
    "    So[i,:]=np.exp((delta-sigma**2/2)*t+sigma*B)\n",
    "    for j in range(N):\n",
    "        Se[i,j+1]=Se[i,j]+delta*Se[i,j]*dt+sigma*Se[i,j]*np.sqrt(dt)*Z[j]\n",
    "        Sm[i,j+1]=Sm[i,j]+delta*Sm[i,j]*dt+sigma*Sm[i,j]*np.sqrt(dt)*Z[j]+0.5*sigma**2*Sm[i,j]*(Z[j]**2-1)*dt\n",
    "        "
   ]
  },
  {
   "cell_type": "code",
   "execution_count": null,
   "metadata": {},
   "outputs": [],
   "source": [
    "plt.rcParams['figure.figsize']=(10,5)\n",
    "plt.subplot(121)\n",
    "for i in range(times):\n",
    "    plt.plot(t,So[i,:],c='r')\n",
    "    plt.plot(t,Se[i,:],c='b')\n",
    "    plt.plot(t,Sm[i,:],c='g')\n",
    "    \n",
    "plt.subplot(122)\n",
    "for i in range(times):\n",
    "    plt.plot(t,Se[i,:]-So[i,:],c='b')\n",
    "    plt.plot(t,Sm[i,:]-So[i,:],c='g')\n",
    "    \n",
    "plt.show()\n",
    "\n",
    "plt.rcParams['figure.figsize']=(5,5)\n",
    "for i in range(times):\n",
    "    plt.plot(t,Sm[i,:]-So[i,:],c='g')\n",
    "    \n",
    "plt.show()"
   ]
  },
  {
   "cell_type": "markdown",
   "metadata": {},
   "source": [
    "**6.14**"
   ]
  },
  {
   "cell_type": "code",
   "execution_count": null,
   "metadata": {},
   "outputs": [],
   "source": [
    "delta=0.03\n",
    "k=0.8\n",
    "theta=0.2\n",
    "sigma=0.25\n",
    "rho=-0.4\n",
    "M=1000\n",
    "t=np.linspace(0,1,M+1)\n",
    "dt=t.max()/M\n",
    "V=0.25*np.ones(M+1)\n",
    "S=np.ones(M+1)\n",
    "for n in range(M):\n",
    "    Z1=norm.rvs(size=M)\n",
    "    Z2=norm.rvs(size=M)\n",
    "    V[n+1]=V[n]+k*(theta-V[n])*dt+sigma*np.sqrt(V[n]*dt)*Z1[n]+1/8*sigma**2*(Z1[n]**2-1)*dt\n",
    "    V[n+1]=np.max([V[n+1],0])\n",
    "    S[n+1]=S[n]+delta*S[n]*dt+S[n]*np.sqrt(V[n]*dt)*Z2[n]+0.5*V[n]*S[n]*(Z2[n]**2-1)*dt\n",
    "\n",
    "plt.rcParams['figure.figsize']=(10,5)\n",
    "plt.subplot(121)\n",
    "plt.plot(t,V)\n",
    "plt.subplot(122)\n",
    "plt.plot(t,S)\n",
    "plt.show()"
   ]
  },
  {
   "cell_type": "code",
   "execution_count": null,
   "metadata": {},
   "outputs": [],
   "source": [
    "times=100\n",
    "S1=np.zeros(times)\n",
    "for time in range(times):\n",
    "    V=0.25*np.ones(M+1)\n",
    "    S=np.ones(M+1)\n",
    "    for n in range(M):\n",
    "        Z1=norm.rvs(size=M)\n",
    "        Z2=norm.rvs(size=M)\n",
    "        V[n+1]=V[n]+k*(theta-V[n])*dt+sigma*np.sqrt(V[n]*dt)*Z1[n]+1/8*sigma**2*(Z1[n]**2-1)*dt\n",
    "        V[n+1]=np.max([V[n+1],0])\n",
    "        S[n+1]=S[n]+delta*S[n]*dt+S[n]*np.sqrt(V[n]*dt)*Z2[n]+0.5*V[n]*S[n]*(Z2[n]**2-1)*dt\n",
    "    \n",
    "    S1[time]=S[-1]"
   ]
  },
  {
   "cell_type": "code",
   "execution_count": null,
   "metadata": {},
   "outputs": [],
   "source": [
    "Y=np.exp(-delta)*np.maximum(0,S1-1.1)\n",
    "print(np.mean(Y),np.mean(S1>1.1))"
   ]
  },
  {
   "cell_type": "markdown",
   "metadata": {},
   "source": [
    "**6.17**"
   ]
  },
  {
   "cell_type": "code",
   "execution_count": null,
   "metadata": {},
   "outputs": [],
   "source": [
    "lbd=0.5\n",
    "N=1000\n",
    "D=expon.rvs(size=N,scale=1/lbd)\n",
    "X1p=uniform.rvs(size=N)*D\n",
    "X1n=X1p-D\n",
    "X1=np.array([X1p[i] if X1p[i]<=-X1n[i] else X1n[i] for i in range(N)])\n",
    "\n",
    "plt.rcParams['figure.figsize']=(6,5)\n",
    "sb.histplot(X1p,color='green')\n",
    "sb.histplot(-X1n,color='red')\n",
    "plt.show()\n",
    "print(np.mean(X1p-X1n))\n",
    "\n",
    "sb.histplot(X1,color='blue')\n",
    "plt.show()\n",
    "print(np.mean(np.abs(X1)))"
   ]
  },
  {
   "cell_type": "markdown",
   "metadata": {},
   "source": [
    "**6.18**"
   ]
  },
  {
   "cell_type": "code",
   "execution_count": null,
   "metadata": {},
   "outputs": [],
   "source": [
    "def PoiExp(N):\n",
    "    Exp=expon.rvs(size=N)\n",
    "    U=[np.sum(Exp[:i+1]) for i in range(N)]\n",
    "    U=U-U[0]*uniform.rvs()\n",
    "    T=np.log(U)\n",
    "    return T\n",
    "\n",
    "T=PoiExp(10000)\n",
    "tmax=T.max()\n",
    "tmin=T.min()\n",
    "t=np.linspace(tmin,tmax,1000)\n",
    "\n",
    "sb.histplot(T,stat='density')\n",
    "plt.plot(t,np.exp(t)/(np.exp(tmax)-np.exp(tmin)),c='r')\n",
    "plt.show()"
   ]
  },
  {
   "cell_type": "code",
   "execution_count": null,
   "metadata": {},
   "outputs": [],
   "source": [
    "N=10000\n",
    "Y=np.zeros(N)\n",
    "for i in range(N):\n",
    "    Y[i]=np.sum(PoiExp(100)<0)\n",
    "    \n",
    "sb.histplot(Y)\n",
    "plt.show()"
   ]
  },
  {
   "cell_type": "markdown",
   "metadata": {},
   "source": [
    "**6.20**"
   ]
  },
  {
   "cell_type": "code",
   "execution_count": null,
   "metadata": {},
   "outputs": [],
   "source": [
    "def Zipf_Poi(N,alpha,k):\n",
    "    mu=N/((alpha-1)*k**(alpha-1))\n",
    "    num=poisson.rvs(mu=mu)\n",
    "    print(num)\n",
    "    U=uniform.rvs(size=2*num)\n",
    "    X=k/(U[:num]**(1/(alpha-1)))+0.5\n",
    "    Z=N*(X-0.5)**(-alpha)*U[num:]\n",
    "    return X,Z\n",
    "\n",
    "N=2000\n",
    "alpha=2\n",
    "k=10\n",
    "X,Z=Zipf_Poi(N,alpha,k)\n",
    "x=np.linspace(k+0.5,100,1000)\n",
    "plt.scatter(X,Z)\n",
    "plt.plot(x,N*(x-0.5)**(-alpha))\n",
    "plt.plot([k+0.5,k+0.5,100],[N*k**(-alpha),0,0])\n",
    "plt.xlim(k-1,101)\n",
    "plt.show()"
   ]
  },
  {
   "cell_type": "markdown",
   "metadata": {},
   "source": [
    "**6.21**"
   ]
  },
  {
   "cell_type": "code",
   "execution_count": null,
   "metadata": {},
   "outputs": [],
   "source": [
    "N=10000\n",
    "alpha=1.1\n",
    "k=1\n",
    "X,Z=Zipf_Poi(N,alpha,k)\n",
    "Y=np.floor(X+0.5)[Z<=N*np.floor(X+0.5)**(-alpha)]\n",
    "Y=np.append(np.ones(poisson.rvs(mu=N)),Y)\n",
    "\n",
    "for i in range(50):\n",
    "    plt.plot([i+1,i+1],[0,N*(i+1)**(-alpha)],c='b')\n",
    "    plt.plot([i+1.5,i+1.5],[0,np.sum(Y==i+1)],c='r')\n",
    "    \n",
    "plt.show()"
   ]
  },
  {
   "cell_type": "markdown",
   "metadata": {},
   "source": [
    "**6.22**"
   ]
  },
  {
   "cell_type": "code",
   "execution_count": null,
   "metadata": {},
   "outputs": [],
   "source": [
    "df=pd.read_csv('data/ch6.6.22.csv')\n",
    "traffic=df['traffic'].values\n",
    "\n",
    "def simu_traf(intensity):\n",
    "    result=[]\n",
    "    for i in range(traffic.size):\n",
    "        N=poisson.rvs(mu=intensity*traffic[i])\n",
    "        cars=uniform.rvs(size=N,loc=0.25*i,scale=0.25)\n",
    "        result=np.append(result,cars)\n",
    "        \n",
    "    return result"
   ]
  },
  {
   "cell_type": "code",
   "execution_count": null,
   "metadata": {},
   "outputs": [],
   "source": [
    "for i in range(traffic.size):\n",
    "    plt.plot([0.25*i,0.25*i,0.25*(i+1),0.25*(i+1)],[0,traffic[i],traffic[i],0],c='g')\n",
    "\n",
    "sb.histplot(simu_traf(1),bins=96,color='red')\n",
    "plt.show()"
   ]
  },
  {
   "cell_type": "code",
   "execution_count": null,
   "metadata": {},
   "outputs": [],
   "source": [
    "N=1000\n",
    "Y=[]\n",
    "for n in range(N):\n",
    "    Y.append(simu_traf(1.2).size)\n",
    "    \n",
    "print(1.2*traffic.sum(),sum(Y)/N)\n",
    "sb.histplot(Y)\n",
    "plt.show()"
   ]
  },
  {
   "cell_type": "code",
   "execution_count": null,
   "metadata": {},
   "outputs": [],
   "source": [
    "N=1000\n",
    "Y=0\n",
    "for n in range(N):\n",
    "    tmp=np.sort(simu_traf(1.2))\n",
    "    Y+=tmp[999] if tmp.size>=1000 else 24\n",
    "    \n",
    "print(Y/N)"
   ]
  },
  {
   "cell_type": "code",
   "execution_count": null,
   "metadata": {},
   "outputs": [],
   "source": [
    "N=1000\n",
    "Y=0\n",
    "for n in range(N):\n",
    "    tmp=simu_traf(1.2)\n",
    "    Y+=((1.5<tmp)&(tmp<1.75)).sum()\n",
    "    \n",
    "print(Y/N)"
   ]
  },
  {
   "cell_type": "code",
   "execution_count": null,
   "metadata": {},
   "outputs": [],
   "source": [
    "N=1000\n",
    "Y=[]\n",
    "time=np.arange(0,23.25,0.25)\n",
    "for n in range(N):\n",
    "    tmp1=simu_traf(1.2)\n",
    "    tmp2=np.array([((tmp1>=t)&(tmp1<t+1)).sum() for t in time])\n",
    "    Y.append(time[tmp2==tmp2.max()][0])\n",
    "    \n",
    "sb.histplot(Y)\n",
    "plt.show()"
   ]
  },
  {
   "cell_type": "code",
   "execution_count": null,
   "metadata": {},
   "outputs": [],
   "source": [
    "Y=np.sort(simu_traf(1.2))\n",
    "sb.histplot(Y[1:]-Y[:-1])\n",
    "plt.show()"
   ]
  },
  {
   "cell_type": "markdown",
   "metadata": {},
   "source": [
    "**6.24**"
   ]
  },
  {
   "cell_type": "code",
   "execution_count": null,
   "metadata": {},
   "outputs": [],
   "source": [
    "def cox(lbd0,mu,var,rho):\n",
    "    tmp=np.sqrt(var)\n",
    "    size=poisson.rvs(mu=100*var*lbd0)\n",
    "    U1=10*tmp*uniform.rvs(size=size)-5*tmp\n",
    "    U2=10*tmp*uniform.rvs(size=size)-5*tmp\n",
    "    Sigma=var*np.array([[1,rho],[rho,1]])\n",
    "    N=poisson.rvs(size=size,mu=mu)\n",
    "    Ncum=np.append(0,np.cumsum(N))\n",
    "    T=np.zeros([np.sum(N),2])\n",
    "    for i in range(size):\n",
    "        T[Ncum[i]:Ncum[i+1]]=multi_norm.rvs(size=N[i],mean=[U1[i],U2[i]],cov=Sigma)\n",
    "    \n",
    "    seeds=np.array([U1,U2]).T\n",
    "    Tlim=T[(T[:,0]>-1)&(T[:,1]>-1)&(T[:,0]<1)&(T[:,1]<1)]\n",
    "    return Tlim,seeds,T\n",
    "\n",
    "def K(Tlim,T,h,lbd):\n",
    "    re=0\n",
    "    for t in Tlim:\n",
    "        re+=np.sum(np.sum((t-T)**2,axis=1)<h**2)\n",
    "        \n",
    "    return re/(lbd*Tlim.shape[0])"
   ]
  },
  {
   "cell_type": "code",
   "execution_count": null,
   "metadata": {},
   "outputs": [],
   "source": [
    "lbd0=4\n",
    "mu=100\n",
    "var=1\n",
    "rho=1\n",
    "Tlim,seeds,T=cox(lbd0,mu,var,rho)\n",
    "print(seeds.shape[0],T.shape[0],Tlim.shape[0])\n",
    "plt.plot([-1,1,1,-1,-1],[-1,-1,1,1,-1],c='g')\n",
    "plt.scatter(Tlim[:,0],Tlim[:,1])\n",
    "plt.scatter(seeds[:,0],seeds[:,1],c='r')\n",
    "plt.axis('scaled')\n",
    "plt.xlim([-1.2,1.2])\n",
    "plt.ylim([-1.2,1.2])\n",
    "plt.show()\n",
    "\n",
    "lbd=lbd0*mu\n",
    "H=np.linspace(0.05,0.45,9)\n",
    "Y=np.zeros(9)\n",
    "for i in range(9):\n",
    "    Y[i]=K(Tlim,T,H[i],lbd)\n",
    "    \n",
    "plt.plot(H,np.pi*H**2,c='r')\n",
    "plt.plot(H,Y,c='b')\n",
    "plt.show()"
   ]
  },
  {
   "cell_type": "markdown",
   "metadata": {},
   "source": [
    "**6.25**"
   ]
  },
  {
   "cell_type": "code",
   "execution_count": null,
   "metadata": {},
   "outputs": [],
   "source": [
    "N=100\n",
    "\n",
    "U=np.array([uniform.rvs(size=2) for i in range(N)])\n",
    "plt.scatter(U[:,0],U[:,1])\n",
    "plt.axis('scaled')\n",
    "plt.show()\n",
    "\n",
    "k=10\n",
    "U=np.array([uniform.rvs(size=2)])\n",
    "for n in range(N):\n",
    "    tmp=np.array([uniform.rvs(size=k),uniform.rvs(size=k)]).T\n",
    "    dist=np.array([np.sum((u-U)**2,axis=1).min() for u in tmp])\n",
    "    U=np.vstack([U,tmp[dist==dist.max()]])\n",
    "    \n",
    "plt.scatter(U[:,0],U[:,1])\n",
    "plt.axis('scaled')\n",
    "plt.show()\n",
    "\n",
    "k=3\n",
    "U=np.array([uniform.rvs(size=2)])\n",
    "for n in range(N):\n",
    "    tmp=np.array([uniform.rvs(size=k),uniform.rvs(size=k)]).T\n",
    "    dist=np.array([np.sum((u-U)**2,axis=1).min() for u in tmp])\n",
    "    U=np.vstack([U,tmp[dist==dist.min()]])\n",
    "    \n",
    "plt.scatter(U[:,0],U[:,1])\n",
    "plt.axis('scaled')\n",
    "plt.show()"
   ]
  },
  {
   "cell_type": "code",
   "execution_count": null,
   "metadata": {},
   "outputs": [],
   "source": [
    "N=100\n",
    "\n",
    "U=multi_norm.rvs(size=N+1,mean=[0,0])\n",
    "plt.scatter(U[:,0],U[:,1],c='r')\n",
    "plt.axis('scaled')\n",
    "plt.xlim([-3,3])\n",
    "plt.ylim([-3,3])\n",
    "\n",
    "k=20\n",
    "U=[multi_norm.rvs(mean=[0,0])]\n",
    "for n in range(N):\n",
    "    tmp=multi_norm.rvs(size=k,mean=[0,0])\n",
    "    dist=np.array([np.sum((u-U)**2,axis=1).min() for u in tmp])\n",
    "    U=np.vstack([U,tmp[dist==dist.max()]])\n",
    "    \n",
    "plt.scatter(U[:,0],U[:,1],c='b')\n",
    "plt.axis('scaled')\n",
    "plt.xlim([-3,3])\n",
    "plt.ylim([-3,3])\n",
    "\n",
    "k=20\n",
    "U=[multi_norm.rvs(mean=[0,0])]\n",
    "for n in range(N):\n",
    "    tmp=multi_norm.rvs(size=k,mean=[0,0])\n",
    "    dist=np.array([np.sum((u-U)**2,axis=1).min() for u in tmp])\n",
    "    dist=dist*multi_norm.pdf(tmp,mean=[0,0])\n",
    "    U=np.vstack([U,tmp[dist==dist.max()]])\n",
    "    \n",
    "plt.scatter(U[:,0],U[:,1],c='g')\n",
    "plt.axis('scaled')\n",
    "plt.xlim([-3,3])\n",
    "plt.ylim([-3,3])\n",
    "plt.show()"
   ]
  },
  {
   "cell_type": "code",
   "execution_count": null,
   "metadata": {},
   "outputs": [],
   "source": [
    "N=10000\n",
    "\n",
    "x=np.linspace(-3,3,1000)\n",
    "plt.plot(x,norm.pdf(x),c='r')\n",
    "U=norm.rvs(size=N+1)\n",
    "sb.histplot(U,stat='density')\n",
    "plt.show()\n",
    "\n",
    "k=10\n",
    "U=[norm.rvs()]\n",
    "for n in range(N):\n",
    "    tmp=norm.rvs(size=k)\n",
    "    dist=np.array([np.abs(u-U).min() for u in tmp])\n",
    "    dist=dist*norm.pdf(tmp)\n",
    "    U=np.append(U,tmp[dist==dist.max()])\n",
    "    \n",
    "x=np.linspace(-3,3,1000)\n",
    "plt.plot(x,norm.pdf(x),c='r')\n",
    "sb.histplot(U,stat='density')\n",
    "plt.show()\n",
    "\n",
    "k=3\n",
    "U=[norm.rvs()]\n",
    "for n in range(N):\n",
    "    tmp=norm.rvs(size=k)\n",
    "    dist=np.array([np.abs(u-U).min() for u in tmp])\n",
    "    dist=dist*norm.pdf(tmp)\n",
    "    U=np.append(U,tmp[dist==dist.min()])\n",
    "    \n",
    "x=np.linspace(-3,3,1000)\n",
    "plt.plot(x,norm.pdf(x),c='r')\n",
    "sb.histplot(U,stat='density')\n",
    "plt.show()"
   ]
  },
  {
   "cell_type": "code",
   "execution_count": null,
   "metadata": {},
   "outputs": [],
   "source": [
    "N=1000\n",
    "k=100\n",
    "U=[norm.rvs(loc=3,scale=2)]\n",
    "for n in range(N):\n",
    "    tmp=norm.rvs(size=k,loc=3,scale=2)\n",
    "    dist=np.array([np.abs(u-U).min() for u in tmp])\n",
    "    dist=dist*norm.pdf(tmp)\n",
    "    U=np.append(U,tmp[dist==dist.max()])\n",
    "    \n",
    "x=np.linspace(-3,8,1000)\n",
    "plt.plot(x,norm.pdf(x,loc=3,scale=2),c='g')\n",
    "plt.plot(x,norm.pdf(x),c='r')\n",
    "sb.histplot(U,stat='density')\n",
    "plt.show()"
   ]
  },
  {
   "cell_type": "markdown",
   "metadata": {},
   "source": [
    "**6.27**"
   ]
  },
  {
   "cell_type": "code",
   "execution_count": null,
   "metadata": {},
   "outputs": [],
   "source": [
    "def Chinese(G,alpha,size):\n",
    "    X=[G()]\n",
    "    for i in range(size-1):\n",
    "        tmp=np.append(X,G())\n",
    "        p=1/(alpha+i+1)*np.ones(i+2)\n",
    "        p[-1]*=alpha\n",
    "        X.append(np.random.choice(tmp,p=p))\n",
    "        \n",
    "    tmp=np.array([X[0]])\n",
    "    Y=np.zeros(len(set(X)))\n",
    "    for x in X:\n",
    "        if x not in tmp:\n",
    "            tmp=np.append(tmp,x)\n",
    "            \n",
    "        Y[np.arange(tmp.size)[tmp==x]]+=1\n",
    "    \n",
    "    return Y"
   ]
  },
  {
   "cell_type": "code",
   "execution_count": null,
   "metadata": {},
   "outputs": [],
   "source": [
    "G=uniform.rvs\n",
    "alpha=3\n",
    "size=1000\n",
    "print(Chinese(G,alpha,size))"
   ]
  },
  {
   "cell_type": "code",
   "execution_count": null,
   "metadata": {},
   "outputs": [],
   "source": [
    "N=100\n",
    "Y=0\n",
    "for i in range(N):\n",
    "    Y+=Chinese(G,alpha,size).max()\n",
    "    \n",
    "print(Y/N)"
   ]
  },
  {
   "cell_type": "markdown",
   "metadata": {},
   "source": [
    "**6.28**"
   ]
  },
  {
   "cell_type": "code",
   "execution_count": null,
   "metadata": {},
   "outputs": [],
   "source": [
    "def PitYor(G,alpha,d,size):\n",
    "    Y=np.array([G()])\n",
    "    c=np.array([1])\n",
    "    t=1\n",
    "    X=Y\n",
    "    for i in range(size-1):\n",
    "        p=np.append(c-d,alpha+d*t)/(alpha+c.sum())\n",
    "        J=np.random.choice(np.arange(0,t+1),p=p)\n",
    "        if J==t:\n",
    "            Y=np.append(Y,G())\n",
    "            c=np.append(c,0)\n",
    "            t+=1\n",
    "            \n",
    "        c[J]+=1\n",
    "        X=np.append(X,Y[J])\n",
    "        \n",
    "    return c,Y,X,t"
   ]
  },
  {
   "cell_type": "code",
   "execution_count": null,
   "metadata": {},
   "outputs": [],
   "source": [
    "G=uniform.rvs\n",
    "alpha=1\n",
    "d=0.5\n",
    "size=1000\n",
    "N=1000\n",
    "out=[]\n",
    "for i in range(N):\n",
    "    c,Y,X,t=PitYor(G,alpha,d,size)\n",
    "    out.append(t)\n",
    "    \n",
    "sb.histplot(out)\n",
    "plt.show()"
   ]
  },
  {
   "cell_type": "markdown",
   "metadata": {},
   "source": [
    "**6.29**"
   ]
  },
  {
   "cell_type": "code",
   "execution_count": null,
   "metadata": {},
   "outputs": [],
   "source": [
    "def LV(V,A,x0,N,Tmax):\n",
    "    T=np.zeros(N+1)\n",
    "    X=np.zeros([N+1,len(x0)])\n",
    "    X[0]=x0\n",
    "    for n in range(N):\n",
    "        a=A(X[n])\n",
    "        if np.sum(a)>0 and T[n]<Tmax:\n",
    "            dT=expon.rvs(scale=1/np.sum(a))\n",
    "            dX=V[np.random.choice(np.arange(V.shape[0]),p=a/np.sum(a))]\n",
    "        else:\n",
    "            T=T[0:n+1]\n",
    "            X=X[0:n+1]\n",
    "            print(n+1)\n",
    "            break\n",
    "            \n",
    "        T[n+1]=T[n]+dT\n",
    "        X[n+1]=X[n]+dX\n",
    "        \n",
    "    return X,T"
   ]
  },
  {
   "cell_type": "code",
   "execution_count": null,
   "metadata": {},
   "outputs": [],
   "source": [
    "V=np.array([[1,0],[-1,1],[0,-1]])\n",
    "c=[10,0.01,10]\n",
    "A=lambda x: np.array([c[0]*x[0],c[1]*x[0]*x[1],c[2]*x[1]])\n",
    "x0=[1000,1000]\n",
    "N=1000000\n",
    "Tmax=10\n",
    "X,T=LV(V,A,x0,N,Tmax)"
   ]
  },
  {
   "cell_type": "code",
   "execution_count": null,
   "metadata": {},
   "outputs": [],
   "source": [
    "plt.plot(T,X[:,0],c='g')\n",
    "plt.plot(T,X[:,1],c='r')\n",
    "plt.show()\n",
    "\n",
    "plt.plot(X[:,0],X[:,1])\n",
    "plt.show()"
   ]
  },
  {
   "cell_type": "markdown",
   "metadata": {},
   "source": [
    "**6.30**"
   ]
  },
  {
   "cell_type": "code",
   "execution_count": null,
   "metadata": {},
   "outputs": [],
   "source": [
    "V=np.array([[1,-1,0],[0,1,-1],[-1,0,1]])\n",
    "c=[1.1,1,1]\n",
    "A=lambda x: np.array([c[0]*x[0]*x[1],c[1]*x[1]*x[2],c[2]*x[2]*x[0]])\n",
    "x0=[1000,1000,1000]\n",
    "N=1000000\n",
    "Tmax=100\n",
    "X,T=LV(V,A,x0,N,Tmax)"
   ]
  },
  {
   "cell_type": "code",
   "execution_count": null,
   "metadata": {},
   "outputs": [],
   "source": [
    "plt.plot(T,X[:,0],c='g')\n",
    "plt.plot(T,X[:,1],c='r')\n",
    "plt.plot(T,X[:,2],c='b')\n",
    "plt.show()\n",
    "print(X[-1,:])"
   ]
  },
  {
   "cell_type": "markdown",
   "metadata": {},
   "source": [
    "**6.32**"
   ]
  },
  {
   "cell_type": "code",
   "execution_count": null,
   "metadata": {},
   "outputs": [],
   "source": [
    "V=np.array([[1,0,0],[-1,1,0],[0,-1,0],[0,-1,0],[0,0,1]])\n",
    "c=[10,0.01,10,0.01,1100,1]\n",
    "A=lambda x: np.array([c[0]*x[0],c[1]*x[0]*x[1],c[2]*x[1],c[3]*x[1]*x[2],c[5]*np.max([x[1]-c[4],0])])\n",
    "x0=[1000,1000,0]\n",
    "N=1000000\n",
    "Tmax=20\n",
    "X,T=LV(V,A,x0,N,Tmax)"
   ]
  },
  {
   "cell_type": "code",
   "execution_count": null,
   "metadata": {},
   "outputs": [],
   "source": [
    "plt.plot(T,X[:,0],c='g')\n",
    "plt.plot(T,X[:,1],c='r')\n",
    "plt.plot(T,X[:,2],c='y')\n",
    "plt.show()\n",
    "\n",
    "plt.plot(X[:,0],X[:,1])\n",
    "plt.show()\n",
    "print(X[-1,:])"
   ]
  }
 ],
 "metadata": {
  "kernelspec": {
   "display_name": "Python 3",
   "language": "python",
   "name": "python3"
  },
  "language_info": {
   "codemirror_mode": {
    "name": "ipython",
    "version": 3
   },
   "file_extension": ".py",
   "mimetype": "text/x-python",
   "name": "python",
   "nbconvert_exporter": "python",
   "pygments_lexer": "ipython3",
   "version": "3.9.1"
  }
 },
 "nbformat": 4,
 "nbformat_minor": 4
}
